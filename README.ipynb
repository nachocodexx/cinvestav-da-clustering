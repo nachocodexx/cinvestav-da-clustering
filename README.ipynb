{
 "cells": [
  {
   "cell_type": "markdown",
   "id": "russian-merchant",
   "metadata": {},
   "source": [
    "# Librerias\n",
    "Se hace uso de un conjunto de librerias para el analisis de datos."
   ]
  },
  {
   "cell_type": "code",
   "execution_count": 134,
   "id": "parental-saying",
   "metadata": {},
   "outputs": [],
   "source": [
    "import pandas as pd\n",
    "import numpy as np\n",
    "import seaborn as sns\n",
    "import matplotlib.pyplot as plt\n",
    "from sklearn import preprocessing\n",
    "from sklearn.cluster import SpectralClustering,AgglomerativeClustering\n",
    "import scipy.cluster.hierarchy as sch\n",
    "from scipy.cluster.hierarchy import dendrogram,linkage\n",
    "import time\n",
    "import json\n",
    "import codecs\n",
    "from sklearn.cluster import KMeans\n",
    "from functools import reduce\n",
    "import operator \n",
    "from sklearn.metrics import calinski_harabasz_score as chs,davies_bouldin_score as dbs,silhouette_score as shs\n",
    "from scipy.sparse.csgraph import laplacian\n",
    "from numpy.random import RandomState,BitGenerator\n",
    "import warnings\n",
    "from scipy.sparse.csgraph import shortest_path\n",
    "from validclust.validclust.indices import dunn\n",
    "plt.rcParams[\"figure.figsize\"] = (15,15)\n",
    "warnings.filterwarnings(\"ignore\")\n",
    "\n",
    "ss = preprocessing.StandardScaler()\n",
    "ac = AgglomerativeClustering()"
   ]
  },
  {
   "cell_type": "markdown",
   "id": "mounted-elder",
   "metadata": {},
   "source": [
    "# Funciones de utileria\n",
    "Funciones las cuales se utilizan de una forma recurrente."
   ]
  },
  {
   "cell_type": "code",
   "execution_count": 135,
   "id": "dedicated-aluminum",
   "metadata": {},
   "outputs": [],
   "source": [
    "def standarize(**kwargs):\n",
    "    X = kwargs['X']\n",
    "    scaler = ss.fit(X)\n",
    "    return scaler.transform(X)"
   ]
  },
  {
   "cell_type": "markdown",
   "id": "hindu-hamilton",
   "metadata": {},
   "source": [
    "# Importar dataset\n",
    "Se importan los datos utilizando Pandas"
   ]
  },
  {
   "cell_type": "code",
   "execution_count": 257,
   "id": "general-driver",
   "metadata": {},
   "outputs": [
    {
     "data": {
      "text/html": [
       "<div>\n",
       "<style scoped>\n",
       "    .dataframe tbody tr th:only-of-type {\n",
       "        vertical-align: middle;\n",
       "    }\n",
       "\n",
       "    .dataframe tbody tr th {\n",
       "        vertical-align: top;\n",
       "    }\n",
       "\n",
       "    .dataframe thead th {\n",
       "        text-align: right;\n",
       "    }\n",
       "</style>\n",
       "<table border=\"1\" class=\"dataframe\">\n",
       "  <thead>\n",
       "    <tr style=\"text-align: right;\">\n",
       "      <th></th>\n",
       "      <th>OPERATION_ID</th>\n",
       "      <th>TYPE</th>\n",
       "      <th>USER_ID</th>\n",
       "      <th>PRODUCTION</th>\n",
       "      <th>CONSUME</th>\n",
       "      <th>CONSUME_OTHERS</th>\n",
       "      <th>USER_VOLUME</th>\n",
       "      <th>USER_DENSITY</th>\n",
       "      <th>USER_ROLE</th>\n",
       "      <th>FILE_ID</th>\n",
       "      <th>FILE_SIZE</th>\n",
       "      <th>TOPIC_ID</th>\n",
       "      <th>TOPIC_VOLUME</th>\n",
       "      <th>TOPIC_DENSITY</th>\n",
       "      <th>TOPIC_ROLE</th>\n",
       "    </tr>\n",
       "  </thead>\n",
       "  <tbody>\n",
       "    <tr>\n",
       "      <th>0</th>\n",
       "      <td>1</td>\n",
       "      <td>UPLOAD</td>\n",
       "      <td>251478729</td>\n",
       "      <td>0.008411</td>\n",
       "      <td>0.016822</td>\n",
       "      <td>0.050467</td>\n",
       "      <td>1248</td>\n",
       "      <td>1304.866641</td>\n",
       "      <td>Gamma</td>\n",
       "      <td>38</td>\n",
       "      <td>2</td>\n",
       "      <td>3</td>\n",
       "      <td>7790920</td>\n",
       "      <td>154761.833245</td>\n",
       "      <td>Alpha</td>\n",
       "    </tr>\n",
       "    <tr>\n",
       "      <th>1</th>\n",
       "      <td>1</td>\n",
       "      <td>UPLOAD</td>\n",
       "      <td>251478729</td>\n",
       "      <td>0.008411</td>\n",
       "      <td>0.016822</td>\n",
       "      <td>0.050467</td>\n",
       "      <td>1248</td>\n",
       "      <td>1304.866641</td>\n",
       "      <td>Gamma</td>\n",
       "      <td>134</td>\n",
       "      <td>10</td>\n",
       "      <td>12</td>\n",
       "      <td>33670104</td>\n",
       "      <td>621071.733518</td>\n",
       "      <td>Beta</td>\n",
       "    </tr>\n",
       "    <tr>\n",
       "      <th>2</th>\n",
       "      <td>1</td>\n",
       "      <td>DOWNLOAD</td>\n",
       "      <td>251478729</td>\n",
       "      <td>0.008411</td>\n",
       "      <td>0.016822</td>\n",
       "      <td>0.050467</td>\n",
       "      <td>1248</td>\n",
       "      <td>1304.866641</td>\n",
       "      <td>Gamma</td>\n",
       "      <td>38</td>\n",
       "      <td>2</td>\n",
       "      <td>3</td>\n",
       "      <td>7790920</td>\n",
       "      <td>154761.833245</td>\n",
       "      <td>Alpha</td>\n",
       "    </tr>\n",
       "  </tbody>\n",
       "</table>\n",
       "</div>"
      ],
      "text/plain": [
       "   OPERATION_ID      TYPE    USER_ID  PRODUCTION   CONSUME  CONSUME_OTHERS  \\\n",
       "0             1    UPLOAD  251478729    0.008411  0.016822        0.050467   \n",
       "1             1    UPLOAD  251478729    0.008411  0.016822        0.050467   \n",
       "2             1  DOWNLOAD  251478729    0.008411  0.016822        0.050467   \n",
       "\n",
       "   USER_VOLUME  USER_DENSITY USER_ROLE  FILE_ID  FILE_SIZE  TOPIC_ID  \\\n",
       "0         1248   1304.866641     Gamma       38          2         3   \n",
       "1         1248   1304.866641     Gamma      134         10        12   \n",
       "2         1248   1304.866641     Gamma       38          2         3   \n",
       "\n",
       "   TOPIC_VOLUME  TOPIC_DENSITY TOPIC_ROLE  \n",
       "0       7790920  154761.833245      Alpha  \n",
       "1      33670104  621071.733518       Beta  \n",
       "2       7790920  154761.833245      Alpha  "
      ]
     },
     "execution_count": 257,
     "metadata": {},
     "output_type": "execute_result"
    }
   ],
   "source": [
    "df1 = pd.read_csv('./data/op02.csv')\n",
    "df2 = pd.read_csv('./data/op01.csv')\n",
    "df  = pd.concat([df1,df2])\n",
    "oldCols =df.columns\n",
    "columns = df.columns\n",
    "useless_cols = [\"OPERATION_ID\",\"USER_ID\",\"TYPE\",\"TOPIC_ID\",\"TOPIC_ROLE\",\"USER_ROLE\",\"FILE_ID\"]\n",
    "df.head(3)"
   ]
  },
  {
   "cell_type": "markdown",
   "id": "conceptual-gender",
   "metadata": {},
   "source": [
    "# Visualizar informacion del dataset\n",
    "Se muestra la informacion basica sobre el conjunto de datos, como los tipos de cada columna y su nombre y el tamaño en Megabytes"
   ]
  },
  {
   "cell_type": "code",
   "execution_count": 271,
   "id": "pharmaceutical-celebrity",
   "metadata": {},
   "outputs": [
    {
     "name": "stdout",
     "output_type": "stream",
     "text": [
      "<class 'pandas.core.frame.DataFrame'>\n",
      "Int64Index: 32771 entries, 0 to 8992\n",
      "Data columns (total 15 columns):\n",
      " #   Column          Non-Null Count  Dtype  \n",
      "---  ------          --------------  -----  \n",
      " 0   OPERATION_ID    32771 non-null  int64  \n",
      " 1   TYPE            32771 non-null  object \n",
      " 2   USER_ID         32771 non-null  int64  \n",
      " 3   PRODUCTION      32771 non-null  float64\n",
      " 4   CONSUME         32771 non-null  float64\n",
      " 5   CONSUME_OTHERS  32771 non-null  float64\n",
      " 6   USER_VOLUME     32771 non-null  int64  \n",
      " 7   USER_DENSITY    32771 non-null  float64\n",
      " 8   USER_ROLE       1319 non-null   object \n",
      " 9   FILE_ID         32771 non-null  int64  \n",
      " 10  FILE_SIZE       32771 non-null  int64  \n",
      " 11  TOPIC_ID        32771 non-null  int64  \n",
      " 12  TOPIC_VOLUME    32771 non-null  int64  \n",
      " 13  TOPIC_DENSITY   32771 non-null  float64\n",
      " 14  TOPIC_ROLE      32771 non-null  object \n",
      "dtypes: float64(5), int64(7), object(3)\n",
      "memory usage: 5.3+ MB\n"
     ]
    }
   ],
   "source": [
    "df.info()"
   ]
  },
  {
   "cell_type": "markdown",
   "id": "associate-upgrade",
   "metadata": {},
   "source": [
    "# Resumen estadistico\n",
    "Se realiza un resumen estadistico de las columnas, el cual contiene 8 columnas, entre las cuales se encuentran:\n",
    "- **count**: Cantidad de registros \n",
    "- **mean** : La media aritmetica \n",
    "- **std**  : La desviacion estandar \n",
    "- **min**  : Valor minimo \n",
    "- **25%**  : Percentil 25\n",
    "- **50%**  : Percentil 50 el cual es equivalente a la mediana\n",
    "- **75%**  : Percentil 75\n",
    "- **max**  : Valor maximo"
   ]
  },
  {
   "cell_type": "code",
   "execution_count": 272,
   "id": "vertical-register",
   "metadata": {},
   "outputs": [
    {
     "data": {
      "text/html": [
       "<div>\n",
       "<style scoped>\n",
       "    .dataframe tbody tr th:only-of-type {\n",
       "        vertical-align: middle;\n",
       "    }\n",
       "\n",
       "    .dataframe tbody tr th {\n",
       "        vertical-align: top;\n",
       "    }\n",
       "\n",
       "    .dataframe thead th {\n",
       "        text-align: right;\n",
       "    }\n",
       "</style>\n",
       "<table border=\"1\" class=\"dataframe\">\n",
       "  <thead>\n",
       "    <tr style=\"text-align: right;\">\n",
       "      <th></th>\n",
       "      <th>count</th>\n",
       "      <th>mean</th>\n",
       "      <th>std</th>\n",
       "      <th>min</th>\n",
       "      <th>25%</th>\n",
       "      <th>50%</th>\n",
       "      <th>75%</th>\n",
       "      <th>max</th>\n",
       "    </tr>\n",
       "  </thead>\n",
       "  <tbody>\n",
       "    <tr>\n",
       "      <th>OPERATION_ID</th>\n",
       "      <td>32771.0</td>\n",
       "      <td>8.304130e+03</td>\n",
       "      <td>5.836288e+03</td>\n",
       "      <td>1.00</td>\n",
       "      <td>3.341000e+03</td>\n",
       "      <td>6.941000e+03</td>\n",
       "      <td>1.310050e+04</td>\n",
       "      <td>2.026200e+04</td>\n",
       "    </tr>\n",
       "    <tr>\n",
       "      <th>USER_ID</th>\n",
       "      <td>32771.0</td>\n",
       "      <td>8.108804e+08</td>\n",
       "      <td>8.335594e+08</td>\n",
       "      <td>4163.00</td>\n",
       "      <td>1.774968e+08</td>\n",
       "      <td>3.705717e+08</td>\n",
       "      <td>1.506215e+09</td>\n",
       "      <td>2.917676e+09</td>\n",
       "    </tr>\n",
       "    <tr>\n",
       "      <th>PRODUCTION</th>\n",
       "      <td>32771.0</td>\n",
       "      <td>3.782092e-04</td>\n",
       "      <td>2.427325e-03</td>\n",
       "      <td>0.00</td>\n",
       "      <td>0.000000e+00</td>\n",
       "      <td>0.000000e+00</td>\n",
       "      <td>0.000000e+00</td>\n",
       "      <td>6.671856e-02</td>\n",
       "    </tr>\n",
       "    <tr>\n",
       "      <th>CONSUME</th>\n",
       "      <td>32771.0</td>\n",
       "      <td>1.120545e-02</td>\n",
       "      <td>2.503432e-02</td>\n",
       "      <td>0.00</td>\n",
       "      <td>4.205568e-03</td>\n",
       "      <td>4.205568e-03</td>\n",
       "      <td>1.111976e-02</td>\n",
       "      <td>4.781497e-01</td>\n",
       "    </tr>\n",
       "    <tr>\n",
       "      <th>CONSUME_OTHERS</th>\n",
       "      <td>32771.0</td>\n",
       "      <td>2.305597e-02</td>\n",
       "      <td>2.299075e-01</td>\n",
       "      <td>0.00</td>\n",
       "      <td>0.000000e+00</td>\n",
       "      <td>0.000000e+00</td>\n",
       "      <td>0.000000e+00</td>\n",
       "      <td>1.000778e+01</td>\n",
       "    </tr>\n",
       "    <tr>\n",
       "      <th>USER_VOLUME</th>\n",
       "      <td>32771.0</td>\n",
       "      <td>7.965800e+03</td>\n",
       "      <td>1.696910e+05</td>\n",
       "      <td>0.00</td>\n",
       "      <td>0.000000e+00</td>\n",
       "      <td>0.000000e+00</td>\n",
       "      <td>0.000000e+00</td>\n",
       "      <td>7.740000e+06</td>\n",
       "    </tr>\n",
       "    <tr>\n",
       "      <th>USER_DENSITY</th>\n",
       "      <td>32771.0</td>\n",
       "      <td>6.226255e+02</td>\n",
       "      <td>9.465923e+03</td>\n",
       "      <td>0.00</td>\n",
       "      <td>0.000000e+00</td>\n",
       "      <td>0.000000e+00</td>\n",
       "      <td>0.000000e+00</td>\n",
       "      <td>4.878586e+05</td>\n",
       "    </tr>\n",
       "    <tr>\n",
       "      <th>FILE_ID</th>\n",
       "      <td>32771.0</td>\n",
       "      <td>1.468878e+02</td>\n",
       "      <td>1.037777e+02</td>\n",
       "      <td>1.00</td>\n",
       "      <td>5.700000e+01</td>\n",
       "      <td>1.130000e+02</td>\n",
       "      <td>2.370000e+02</td>\n",
       "      <td>3.530000e+02</td>\n",
       "    </tr>\n",
       "    <tr>\n",
       "      <th>FILE_SIZE</th>\n",
       "      <td>32771.0</td>\n",
       "      <td>5.142168e+00</td>\n",
       "      <td>1.960774e+00</td>\n",
       "      <td>1.00</td>\n",
       "      <td>4.000000e+00</td>\n",
       "      <td>5.000000e+00</td>\n",
       "      <td>6.000000e+00</td>\n",
       "      <td>1.000000e+01</td>\n",
       "    </tr>\n",
       "    <tr>\n",
       "      <th>TOPIC_ID</th>\n",
       "      <td>32771.0</td>\n",
       "      <td>1.275933e+01</td>\n",
       "      <td>7.348027e+00</td>\n",
       "      <td>1.00</td>\n",
       "      <td>7.000000e+00</td>\n",
       "      <td>1.300000e+01</td>\n",
       "      <td>1.800000e+01</td>\n",
       "      <td>2.600000e+01</td>\n",
       "    </tr>\n",
       "    <tr>\n",
       "      <th>TOPIC_VOLUME</th>\n",
       "      <td>32771.0</td>\n",
       "      <td>1.214909e+07</td>\n",
       "      <td>1.441031e+07</td>\n",
       "      <td>7.00</td>\n",
       "      <td>1.707174e+06</td>\n",
       "      <td>7.498850e+06</td>\n",
       "      <td>1.599946e+07</td>\n",
       "      <td>4.814861e+07</td>\n",
       "    </tr>\n",
       "    <tr>\n",
       "      <th>TOPIC_DENSITY</th>\n",
       "      <td>32771.0</td>\n",
       "      <td>1.914615e+05</td>\n",
       "      <td>1.767082e+05</td>\n",
       "      <td>5.05</td>\n",
       "      <td>5.878110e+04</td>\n",
       "      <td>1.291473e+05</td>\n",
       "      <td>2.328599e+05</td>\n",
       "      <td>6.210717e+05</td>\n",
       "    </tr>\n",
       "  </tbody>\n",
       "</table>\n",
       "</div>"
      ],
      "text/plain": [
       "                  count          mean           std      min           25%  \\\n",
       "OPERATION_ID    32771.0  8.304130e+03  5.836288e+03     1.00  3.341000e+03   \n",
       "USER_ID         32771.0  8.108804e+08  8.335594e+08  4163.00  1.774968e+08   \n",
       "PRODUCTION      32771.0  3.782092e-04  2.427325e-03     0.00  0.000000e+00   \n",
       "CONSUME         32771.0  1.120545e-02  2.503432e-02     0.00  4.205568e-03   \n",
       "CONSUME_OTHERS  32771.0  2.305597e-02  2.299075e-01     0.00  0.000000e+00   \n",
       "USER_VOLUME     32771.0  7.965800e+03  1.696910e+05     0.00  0.000000e+00   \n",
       "USER_DENSITY    32771.0  6.226255e+02  9.465923e+03     0.00  0.000000e+00   \n",
       "FILE_ID         32771.0  1.468878e+02  1.037777e+02     1.00  5.700000e+01   \n",
       "FILE_SIZE       32771.0  5.142168e+00  1.960774e+00     1.00  4.000000e+00   \n",
       "TOPIC_ID        32771.0  1.275933e+01  7.348027e+00     1.00  7.000000e+00   \n",
       "TOPIC_VOLUME    32771.0  1.214909e+07  1.441031e+07     7.00  1.707174e+06   \n",
       "TOPIC_DENSITY   32771.0  1.914615e+05  1.767082e+05     5.05  5.878110e+04   \n",
       "\n",
       "                         50%           75%           max  \n",
       "OPERATION_ID    6.941000e+03  1.310050e+04  2.026200e+04  \n",
       "USER_ID         3.705717e+08  1.506215e+09  2.917676e+09  \n",
       "PRODUCTION      0.000000e+00  0.000000e+00  6.671856e-02  \n",
       "CONSUME         4.205568e-03  1.111976e-02  4.781497e-01  \n",
       "CONSUME_OTHERS  0.000000e+00  0.000000e+00  1.000778e+01  \n",
       "USER_VOLUME     0.000000e+00  0.000000e+00  7.740000e+06  \n",
       "USER_DENSITY    0.000000e+00  0.000000e+00  4.878586e+05  \n",
       "FILE_ID         1.130000e+02  2.370000e+02  3.530000e+02  \n",
       "FILE_SIZE       5.000000e+00  6.000000e+00  1.000000e+01  \n",
       "TOPIC_ID        1.300000e+01  1.800000e+01  2.600000e+01  \n",
       "TOPIC_VOLUME    7.498850e+06  1.599946e+07  4.814861e+07  \n",
       "TOPIC_DENSITY   1.291473e+05  2.328599e+05  6.210717e+05  "
      ]
     },
     "execution_count": 272,
     "metadata": {},
     "output_type": "execute_result"
    }
   ],
   "source": [
    "df.describe().T"
   ]
  },
  {
   "cell_type": "markdown",
   "id": "reliable-engine",
   "metadata": {},
   "source": [
    "# Productores\n",
    "Se filtran los usuarios productores utilizando la columna **USER_ROLE** "
   ]
  },
  {
   "cell_type": "code",
   "execution_count": 273,
   "id": "confused-nutrition",
   "metadata": {},
   "outputs": [
    {
     "data": {
      "text/html": [
       "<div>\n",
       "<style scoped>\n",
       "    .dataframe tbody tr th:only-of-type {\n",
       "        vertical-align: middle;\n",
       "    }\n",
       "\n",
       "    .dataframe tbody tr th {\n",
       "        vertical-align: top;\n",
       "    }\n",
       "\n",
       "    .dataframe thead th {\n",
       "        text-align: right;\n",
       "    }\n",
       "</style>\n",
       "<table border=\"1\" class=\"dataframe\">\n",
       "  <thead>\n",
       "    <tr style=\"text-align: right;\">\n",
       "      <th></th>\n",
       "      <th>OPERATION_ID</th>\n",
       "      <th>TYPE</th>\n",
       "      <th>USER_ID</th>\n",
       "      <th>PRODUCTION</th>\n",
       "      <th>CONSUME</th>\n",
       "      <th>CONSUME_OTHERS</th>\n",
       "      <th>USER_VOLUME</th>\n",
       "      <th>USER_DENSITY</th>\n",
       "      <th>USER_ROLE</th>\n",
       "      <th>FILE_ID</th>\n",
       "      <th>FILE_SIZE</th>\n",
       "      <th>TOPIC_ID</th>\n",
       "      <th>TOPIC_VOLUME</th>\n",
       "      <th>TOPIC_DENSITY</th>\n",
       "      <th>TOPIC_ROLE</th>\n",
       "    </tr>\n",
       "  </thead>\n",
       "  <tbody>\n",
       "    <tr>\n",
       "      <th>0</th>\n",
       "      <td>1</td>\n",
       "      <td>UPLOAD</td>\n",
       "      <td>251478729</td>\n",
       "      <td>0.008411</td>\n",
       "      <td>0.016822</td>\n",
       "      <td>0.050467</td>\n",
       "      <td>1248</td>\n",
       "      <td>1304.866641</td>\n",
       "      <td>Gamma</td>\n",
       "      <td>38</td>\n",
       "      <td>2</td>\n",
       "      <td>3</td>\n",
       "      <td>7790920</td>\n",
       "      <td>154761.833245</td>\n",
       "      <td>Alpha</td>\n",
       "    </tr>\n",
       "    <tr>\n",
       "      <th>1</th>\n",
       "      <td>1</td>\n",
       "      <td>UPLOAD</td>\n",
       "      <td>251478729</td>\n",
       "      <td>0.008411</td>\n",
       "      <td>0.016822</td>\n",
       "      <td>0.050467</td>\n",
       "      <td>1248</td>\n",
       "      <td>1304.866641</td>\n",
       "      <td>Gamma</td>\n",
       "      <td>134</td>\n",
       "      <td>10</td>\n",
       "      <td>12</td>\n",
       "      <td>33670104</td>\n",
       "      <td>621071.733518</td>\n",
       "      <td>Beta</td>\n",
       "    </tr>\n",
       "    <tr>\n",
       "      <th>7</th>\n",
       "      <td>3</td>\n",
       "      <td>UPLOAD</td>\n",
       "      <td>2243532154</td>\n",
       "      <td>0.008411</td>\n",
       "      <td>0.008411</td>\n",
       "      <td>0.012617</td>\n",
       "      <td>36</td>\n",
       "      <td>23.533334</td>\n",
       "      <td>Gamma</td>\n",
       "      <td>185</td>\n",
       "      <td>4</td>\n",
       "      <td>7</td>\n",
       "      <td>20247384</td>\n",
       "      <td>314153.816647</td>\n",
       "      <td>Beta</td>\n",
       "    </tr>\n",
       "    <tr>\n",
       "      <th>8</th>\n",
       "      <td>3</td>\n",
       "      <td>UPLOAD</td>\n",
       "      <td>2243532154</td>\n",
       "      <td>0.008411</td>\n",
       "      <td>0.008411</td>\n",
       "      <td>0.012617</td>\n",
       "      <td>36</td>\n",
       "      <td>23.533334</td>\n",
       "      <td>Gamma</td>\n",
       "      <td>299</td>\n",
       "      <td>4</td>\n",
       "      <td>21</td>\n",
       "      <td>5777280</td>\n",
       "      <td>227799.000314</td>\n",
       "      <td>Gamma</td>\n",
       "    </tr>\n",
       "    <tr>\n",
       "      <th>11</th>\n",
       "      <td>4</td>\n",
       "      <td>UPLOAD</td>\n",
       "      <td>191780822</td>\n",
       "      <td>0.004206</td>\n",
       "      <td>0.004206</td>\n",
       "      <td>0.008411</td>\n",
       "      <td>12</td>\n",
       "      <td>7.433334</td>\n",
       "      <td>Gamma</td>\n",
       "      <td>201</td>\n",
       "      <td>3</td>\n",
       "      <td>14</td>\n",
       "      <td>2462290</td>\n",
       "      <td>161309.083032</td>\n",
       "      <td>Gamma</td>\n",
       "    </tr>\n",
       "    <tr>\n",
       "      <th>...</th>\n",
       "      <td>...</td>\n",
       "      <td>...</td>\n",
       "      <td>...</td>\n",
       "      <td>...</td>\n",
       "      <td>...</td>\n",
       "      <td>...</td>\n",
       "      <td>...</td>\n",
       "      <td>...</td>\n",
       "      <td>...</td>\n",
       "      <td>...</td>\n",
       "      <td>...</td>\n",
       "      <td>...</td>\n",
       "      <td>...</td>\n",
       "      <td>...</td>\n",
       "      <td>...</td>\n",
       "    </tr>\n",
       "    <tr>\n",
       "      <th>22773</th>\n",
       "      <td>19397</td>\n",
       "      <td>UPLOAD</td>\n",
       "      <td>986959732</td>\n",
       "      <td>0.004206</td>\n",
       "      <td>0.050467</td>\n",
       "      <td>0.630835</td>\n",
       "      <td>112500</td>\n",
       "      <td>39950.500021</td>\n",
       "      <td>Gamma</td>\n",
       "      <td>337</td>\n",
       "      <td>5</td>\n",
       "      <td>3</td>\n",
       "      <td>7790920</td>\n",
       "      <td>154761.833245</td>\n",
       "      <td>Alpha</td>\n",
       "    </tr>\n",
       "    <tr>\n",
       "      <th>22908</th>\n",
       "      <td>19512</td>\n",
       "      <td>UPLOAD</td>\n",
       "      <td>6860189</td>\n",
       "      <td>0.004206</td>\n",
       "      <td>0.000000</td>\n",
       "      <td>0.630835</td>\n",
       "      <td>135000</td>\n",
       "      <td>132404.316956</td>\n",
       "      <td>Gamma</td>\n",
       "      <td>179</td>\n",
       "      <td>6</td>\n",
       "      <td>12</td>\n",
       "      <td>33670104</td>\n",
       "      <td>621071.733518</td>\n",
       "      <td>Beta</td>\n",
       "    </tr>\n",
       "    <tr>\n",
       "      <th>23091</th>\n",
       "      <td>19647</td>\n",
       "      <td>UPLOAD</td>\n",
       "      <td>12900868</td>\n",
       "      <td>0.004206</td>\n",
       "      <td>0.016822</td>\n",
       "      <td>0.159812</td>\n",
       "      <td>4332</td>\n",
       "      <td>6665.983369</td>\n",
       "      <td>Gamma</td>\n",
       "      <td>266</td>\n",
       "      <td>3</td>\n",
       "      <td>23</td>\n",
       "      <td>295452</td>\n",
       "      <td>34325.750006</td>\n",
       "      <td>Gamma</td>\n",
       "    </tr>\n",
       "    <tr>\n",
       "      <th>23124</th>\n",
       "      <td>19672</td>\n",
       "      <td>UPLOAD</td>\n",
       "      <td>511681663</td>\n",
       "      <td>0.004206</td>\n",
       "      <td>0.079906</td>\n",
       "      <td>0.164017</td>\n",
       "      <td>6084</td>\n",
       "      <td>5063.366640</td>\n",
       "      <td>Gamma</td>\n",
       "      <td>149</td>\n",
       "      <td>4</td>\n",
       "      <td>26</td>\n",
       "      <td>405512</td>\n",
       "      <td>16090.749969</td>\n",
       "      <td>Gamma</td>\n",
       "    </tr>\n",
       "    <tr>\n",
       "      <th>23488</th>\n",
       "      <td>19990</td>\n",
       "      <td>UPLOAD</td>\n",
       "      <td>16516077</td>\n",
       "      <td>0.004206</td>\n",
       "      <td>0.000000</td>\n",
       "      <td>0.622424</td>\n",
       "      <td>87616</td>\n",
       "      <td>93444.166687</td>\n",
       "      <td>Gamma</td>\n",
       "      <td>353</td>\n",
       "      <td>4</td>\n",
       "      <td>12</td>\n",
       "      <td>33670104</td>\n",
       "      <td>621071.733518</td>\n",
       "      <td>Beta</td>\n",
       "    </tr>\n",
       "  </tbody>\n",
       "</table>\n",
       "<p>353 rows × 15 columns</p>\n",
       "</div>"
      ],
      "text/plain": [
       "       OPERATION_ID    TYPE     USER_ID  PRODUCTION   CONSUME  CONSUME_OTHERS  \\\n",
       "0                 1  UPLOAD   251478729    0.008411  0.016822        0.050467   \n",
       "1                 1  UPLOAD   251478729    0.008411  0.016822        0.050467   \n",
       "7                 3  UPLOAD  2243532154    0.008411  0.008411        0.012617   \n",
       "8                 3  UPLOAD  2243532154    0.008411  0.008411        0.012617   \n",
       "11                4  UPLOAD   191780822    0.004206  0.004206        0.008411   \n",
       "...             ...     ...         ...         ...       ...             ...   \n",
       "22773         19397  UPLOAD   986959732    0.004206  0.050467        0.630835   \n",
       "22908         19512  UPLOAD     6860189    0.004206  0.000000        0.630835   \n",
       "23091         19647  UPLOAD    12900868    0.004206  0.016822        0.159812   \n",
       "23124         19672  UPLOAD   511681663    0.004206  0.079906        0.164017   \n",
       "23488         19990  UPLOAD    16516077    0.004206  0.000000        0.622424   \n",
       "\n",
       "       USER_VOLUME   USER_DENSITY USER_ROLE  FILE_ID  FILE_SIZE  TOPIC_ID  \\\n",
       "0             1248    1304.866641     Gamma       38          2         3   \n",
       "1             1248    1304.866641     Gamma      134         10        12   \n",
       "7               36      23.533334     Gamma      185          4         7   \n",
       "8               36      23.533334     Gamma      299          4        21   \n",
       "11              12       7.433334     Gamma      201          3        14   \n",
       "...            ...            ...       ...      ...        ...       ...   \n",
       "22773       112500   39950.500021     Gamma      337          5         3   \n",
       "22908       135000  132404.316956     Gamma      179          6        12   \n",
       "23091         4332    6665.983369     Gamma      266          3        23   \n",
       "23124         6084    5063.366640     Gamma      149          4        26   \n",
       "23488        87616   93444.166687     Gamma      353          4        12   \n",
       "\n",
       "       TOPIC_VOLUME  TOPIC_DENSITY TOPIC_ROLE  \n",
       "0           7790920  154761.833245      Alpha  \n",
       "1          33670104  621071.733518       Beta  \n",
       "7          20247384  314153.816647       Beta  \n",
       "8           5777280  227799.000314      Gamma  \n",
       "11          2462290  161309.083032      Gamma  \n",
       "...             ...            ...        ...  \n",
       "22773       7790920  154761.833245      Alpha  \n",
       "22908      33670104  621071.733518       Beta  \n",
       "23091        295452   34325.750006      Gamma  \n",
       "23124        405512   16090.749969      Gamma  \n",
       "23488      33670104  621071.733518       Beta  \n",
       "\n",
       "[353 rows x 15 columns]"
      ]
     },
     "execution_count": 273,
     "metadata": {},
     "output_type": "execute_result"
    }
   ],
   "source": [
    "producers = df1.loc[df1['USER_ROLE'].isna() != True]\n",
    "producers = producers.loc[producers['TYPE']=='UPLOAD']\n",
    "# .loc[df['TYPE']=='UPLOAD']\n",
    "# X= pd.pivot_table(producers,index=['USER_ID'],values=['PRODUCTION'])\n",
    "producers\n",
    "# X.sum()"
   ]
  },
  {
   "cell_type": "markdown",
   "id": "needed-vehicle",
   "metadata": {},
   "source": [
    "## Distribucion de los datos\n",
    "Se muestra la kernel density estimation (KDE) la estima la distribucion probabilistica de los datos"
   ]
  },
  {
   "cell_type": "code",
   "execution_count": 274,
   "id": "generous-staff",
   "metadata": {},
   "outputs": [],
   "source": [
    "Xp         = producers.drop(useless_cols,axis=1) \n",
    "Xp_columns = Xp.columns\n",
    "displot = lambda x: sns.displot(data=Xp,x=x,height=5,kde=True,color='black')"
   ]
  },
  {
   "cell_type": "markdown",
   "id": "later-tennis",
   "metadata": {},
   "source": [
    "### Produccion\n",
    "Porcentaje de produccion de un usario productor"
   ]
  },
  {
   "cell_type": "code",
   "execution_count": 275,
   "id": "headed-strain",
   "metadata": {},
   "outputs": [
    {
     "data": {
      "text/plain": [
       "<seaborn.axisgrid.FacetGrid at 0x7f9e5d2487f0>"
      ]
     },
     "execution_count": 275,
     "metadata": {},
     "output_type": "execute_result"
    },
    {
     "data": {
      "image/png": "[encoded data removed]",
      "text/plain": [
       "<Figure size 360x360 with 1 Axes>"
      ]
     },
     "metadata": {
      "needs_background": "light"
     },
     "output_type": "display_data"
    }
   ],
   "source": [
    "displot(Xp_columns[0])"
   ]
  },
  {
   "cell_type": "markdown",
   "id": "legislative-vehicle",
   "metadata": {},
   "source": [
    "## Consumo\n",
    "Porcentaje de consumo realizo por un usuario "
   ]
  },
  {
   "cell_type": "code",
   "execution_count": 276,
   "id": "medium-unknown",
   "metadata": {},
   "outputs": [
    {
     "data": {
      "text/plain": [
       "<seaborn.axisgrid.FacetGrid at 0x7f9e5d604cf8>"
      ]
     },
     "execution_count": 276,
     "metadata": {},
     "output_type": "execute_result"
    },
    {
     "data": {
      "image/png": "[encoded data removed]",
      "text/plain": [
       "<Figure size 360x360 with 1 Axes>"
      ]
     },
     "metadata": {
      "needs_background": "light"
     },
     "output_type": "display_data"
    }
   ],
   "source": [
    "displot(Xp_columns[1])"
   ]
  },
  {
   "cell_type": "markdown",
   "id": "timely-music",
   "metadata": {},
   "source": [
    "## Consumido por otros usuarios\n",
    "Porcentaje que representa lo que es consumido por otros usuarios."
   ]
  },
  {
   "cell_type": "code",
   "execution_count": 277,
   "id": "adverse-leather",
   "metadata": {},
   "outputs": [
    {
     "data": {
      "text/plain": [
       "<seaborn.axisgrid.FacetGrid at 0x7f9e5d638208>"
      ]
     },
     "execution_count": 277,
     "metadata": {},
     "output_type": "execute_result"
    },
    {
     "data": {
      "image/png": "[encoded data removed]",
      "text/plain": [
       "<Figure size 360x360 with 1 Axes>"
      ]
     },
     "metadata": {
      "needs_background": "light"
     },
     "output_type": "display_data"
    }
   ],
   "source": [
    "displot(Xp_columns[2])"
   ]
  },
  {
   "cell_type": "markdown",
   "id": "through-latter",
   "metadata": {},
   "source": [
    "## Volumen de usuario\n",
    "Cantidad en bytes, el consumo de almacenamiento de un sistema CDS al servidor las peticiones de descarga"
   ]
  },
  {
   "cell_type": "code",
   "execution_count": 278,
   "id": "catholic-delhi",
   "metadata": {},
   "outputs": [
    {
     "data": {
      "text/plain": [
       "<seaborn.axisgrid.FacetGrid at 0x7f9e5ea173c8>"
      ]
     },
     "execution_count": 278,
     "metadata": {},
     "output_type": "execute_result"
    },
    {
     "data": {
      "image/png": "[encoded data removed]",
      "text/plain": [
       "<Figure size 360x360 with 1 Axes>"
      ]
     },
     "metadata": {
      "needs_background": "light"
     },
     "output_type": "display_data"
    }
   ],
   "source": [
    "displot(Xp_columns[3])"
   ]
  },
  {
   "cell_type": "markdown",
   "id": "damaged-company",
   "metadata": {},
   "source": [
    "## Densidad de usuario\n",
    "El tiempo promedio entre las peticiones"
   ]
  },
  {
   "cell_type": "code",
   "execution_count": 280,
   "id": "helpful-morrison",
   "metadata": {},
   "outputs": [
    {
     "data": {
      "text/plain": [
       "<seaborn.axisgrid.FacetGrid at 0x7f9e5d0e8e10>"
      ]
     },
     "execution_count": 280,
     "metadata": {},
     "output_type": "execute_result"
    },
    {
     "data": {
      "image/png": "[encoded data removed]",
      "text/plain": [
       "<Figure size 360x360 with 1 Axes>"
      ]
     },
     "metadata": {
      "needs_background": "light"
     },
     "output_type": "display_data"
    }
   ],
   "source": [
    "displot(Xp_columns[4])"
   ]
  },
  {
   "cell_type": "markdown",
   "id": "compliant-cable",
   "metadata": {},
   "source": [
    "##  Tamaño de archivos\n",
    "Tamaño de un archivo en megabytes"
   ]
  },
  {
   "cell_type": "code",
   "execution_count": 279,
   "id": "worse-premiere",
   "metadata": {},
   "outputs": [
    {
     "data": {
      "text/plain": [
       "<seaborn.axisgrid.FacetGrid at 0x7f9e5d59a4a8>"
      ]
     },
     "execution_count": 279,
     "metadata": {},
     "output_type": "execute_result"
    },
    {
     "data": {
      "image/png": "[encoded data removed]",
      "text/plain": [
       "<Figure size 360x360 with 1 Axes>"
      ]
     },
     "metadata": {
      "needs_background": "light"
     },
     "output_type": "display_data"
    }
   ],
   "source": [
    "displot(Xp_columns[5])"
   ]
  },
  {
   "cell_type": "markdown",
   "id": "lovely-hampton",
   "metadata": {},
   "source": [
    "## Volumen  de tema\n",
    "Consumo de almacenamiento el cual es generado por los archivos los cuales son clasificados con el tema."
   ]
  },
  {
   "cell_type": "code",
   "execution_count": 281,
   "id": "devoted-livestock",
   "metadata": {},
   "outputs": [
    {
     "data": {
      "text/plain": [
       "<seaborn.axisgrid.FacetGrid at 0x7f9e5eaf67b8>"
      ]
     },
     "execution_count": 281,
     "metadata": {},
     "output_type": "execute_result"
    },
    {
     "data": {
      "image/png": "[encoded data removed]",
      "text/plain": [
       "<Figure size 360x360 with 1 Axes>"
      ]
     },
     "metadata": {
      "needs_background": "light"
     },
     "output_type": "display_data"
    }
   ],
   "source": [
    "displot(Xp_columns[6])"
   ]
  },
  {
   "cell_type": "markdown",
   "id": "comparative-pastor",
   "metadata": {},
   "source": [
    "## Densidad de tema\n",
    "El tiempo promedio entre las peticiones de los archivos que tratan del tema."
   ]
  },
  {
   "cell_type": "code",
   "execution_count": 282,
   "id": "african-projection",
   "metadata": {},
   "outputs": [
    {
     "data": {
      "text/plain": [
       "<seaborn.axisgrid.FacetGrid at 0x7f9e5eaec908>"
      ]
     },
     "execution_count": 282,
     "metadata": {},
     "output_type": "execute_result"
    },
    {
     "data": {
      "image/png": "[encoded data removed]",
      "text/plain": [
       "<Figure size 360x360 with 1 Axes>"
      ]
     },
     "metadata": {
      "needs_background": "light"
     },
     "output_type": "display_data"
    }
   ],
   "source": [
    "displot(Xp_columns[7])"
   ]
  },
  {
   "cell_type": "markdown",
   "id": "embedded-bachelor",
   "metadata": {},
   "source": [
    "## Elimando Outliers\n",
    "Utilizando el rango intercuartil, los valores atípicos se definen como observaciones que caen por debajo de Q1 - 1.5 IQR o por encima de Q3 + 1.5 IQR."
   ]
  },
  {
   "cell_type": "code",
   "execution_count": 284,
   "id": "foster-islam",
   "metadata": {},
   "outputs": [],
   "source": [
    "for col in Xp_columns:\n",
    "    Q1 = Xp[col].quantile(0.25)\n",
    "    Q3 = Xp[col].quantile(0.75)\n",
    "    IQR = Q3 - Q1 \n",
    "    filter = (df[col] >= Q1 - 1.5 * IQR) & (df[col] <= Q3 + 1.5 *IQR)\n",
    "    Xp = Xp.loc[filter] \n",
    "#     sns.boxplot(x=Xp[col],width=.5,color=\"red\",fliersize=20)"
   ]
  },
  {
   "cell_type": "markdown",
   "id": "cathedral-consumption",
   "metadata": {},
   "source": [
    "# Consumidores\n",
    "Se filtran usuarios consumidores utilizando la columna **USER_ROLE**, la cual es nula en caso de ser consumidor."
   ]
  },
  {
   "cell_type": "code",
   "execution_count": 285,
   "id": "moderate-daily",
   "metadata": {},
   "outputs": [
    {
     "data": {
      "text/html": [
       "<div>\n",
       "<style scoped>\n",
       "    .dataframe tbody tr th:only-of-type {\n",
       "        vertical-align: middle;\n",
       "    }\n",
       "\n",
       "    .dataframe tbody tr th {\n",
       "        vertical-align: top;\n",
       "    }\n",
       "\n",
       "    .dataframe thead th {\n",
       "        text-align: right;\n",
       "    }\n",
       "</style>\n",
       "<table border=\"1\" class=\"dataframe\">\n",
       "  <thead>\n",
       "    <tr style=\"text-align: right;\">\n",
       "      <th></th>\n",
       "      <th>CONSUME</th>\n",
       "    </tr>\n",
       "    <tr>\n",
       "      <th>USER_ID</th>\n",
       "      <th></th>\n",
       "    </tr>\n",
       "  </thead>\n",
       "  <tbody>\n",
       "    <tr>\n",
       "      <th>4163</th>\n",
       "      <td>0.004206</td>\n",
       "    </tr>\n",
       "    <tr>\n",
       "      <th>6161</th>\n",
       "      <td>0.011120</td>\n",
       "    </tr>\n",
       "    <tr>\n",
       "      <th>7128</th>\n",
       "      <td>0.008411</td>\n",
       "    </tr>\n",
       "    <tr>\n",
       "      <th>13357</th>\n",
       "      <td>0.004206</td>\n",
       "    </tr>\n",
       "    <tr>\n",
       "      <th>18107</th>\n",
       "      <td>0.004206</td>\n",
       "    </tr>\n",
       "    <tr>\n",
       "      <th>...</th>\n",
       "      <td>...</td>\n",
       "    </tr>\n",
       "    <tr>\n",
       "      <th>2917621259</th>\n",
       "      <td>0.004206</td>\n",
       "    </tr>\n",
       "    <tr>\n",
       "      <th>2917659673</th>\n",
       "      <td>0.004206</td>\n",
       "    </tr>\n",
       "    <tr>\n",
       "      <th>2917666785</th>\n",
       "      <td>0.004206</td>\n",
       "    </tr>\n",
       "    <tr>\n",
       "      <th>2917667193</th>\n",
       "      <td>0.004206</td>\n",
       "    </tr>\n",
       "    <tr>\n",
       "      <th>2917676079</th>\n",
       "      <td>0.004206</td>\n",
       "    </tr>\n",
       "  </tbody>\n",
       "</table>\n",
       "<p>27285 rows × 1 columns</p>\n",
       "</div>"
      ],
      "text/plain": [
       "             CONSUME\n",
       "USER_ID             \n",
       "4163        0.004206\n",
       "6161        0.011120\n",
       "7128        0.008411\n",
       "13357       0.004206\n",
       "18107       0.004206\n",
       "...              ...\n",
       "2917621259  0.004206\n",
       "2917659673  0.004206\n",
       "2917666785  0.004206\n",
       "2917667193  0.004206\n",
       "2917676079  0.004206\n",
       "\n",
       "[27285 rows x 1 columns]"
      ]
     },
     "execution_count": 285,
     "metadata": {},
     "output_type": "execute_result"
    }
   ],
   "source": [
    "consumers     = df.loc[df1['USER_ROLE'].isna()]\n",
    "Y             = pd.pivot_table(consumers,index=['USER_ID'],values=['CONSUME'])\n",
    "Y\n",
    "# consumers\n",
    "# Y['CONSUME'].sum()\n",
    "# consumers.head(5)"
   ]
  },
  {
   "cell_type": "markdown",
   "id": "outer-quest",
   "metadata": {},
   "source": [
    "# Archivos\n",
    "Se extraen los archivos los cuales son cargados por los usuarios productores."
   ]
  },
  {
   "cell_type": "code",
   "execution_count": 286,
   "id": "binary-return",
   "metadata": {},
   "outputs": [
    {
     "data": {
      "text/html": [
       "<div>\n",
       "<style scoped>\n",
       "    .dataframe tbody tr th:only-of-type {\n",
       "        vertical-align: middle;\n",
       "    }\n",
       "\n",
       "    .dataframe tbody tr th {\n",
       "        vertical-align: top;\n",
       "    }\n",
       "\n",
       "    .dataframe thead th {\n",
       "        text-align: right;\n",
       "    }\n",
       "</style>\n",
       "<table border=\"1\" class=\"dataframe\">\n",
       "  <thead>\n",
       "    <tr style=\"text-align: right;\">\n",
       "      <th></th>\n",
       "      <th>FILE_ID</th>\n",
       "      <th>FILE_SIZE</th>\n",
       "      <th>TOPIC_ID</th>\n",
       "      <th>TOPIC_VOLUME</th>\n",
       "      <th>TOPIC_DENSITY</th>\n",
       "      <th>TOPIC_ROLE</th>\n",
       "    </tr>\n",
       "  </thead>\n",
       "  <tbody>\n",
       "    <tr>\n",
       "      <th>16503</th>\n",
       "      <td>1</td>\n",
       "      <td>5</td>\n",
       "      <td>13</td>\n",
       "      <td>2992375</td>\n",
       "      <td>136087.183300</td>\n",
       "      <td>Gamma</td>\n",
       "    </tr>\n",
       "    <tr>\n",
       "      <th>20291</th>\n",
       "      <td>2</td>\n",
       "      <td>2</td>\n",
       "      <td>16</td>\n",
       "      <td>1445325</td>\n",
       "      <td>105013.899899</td>\n",
       "      <td>Gamma</td>\n",
       "    </tr>\n",
       "    <tr>\n",
       "      <th>18275</th>\n",
       "      <td>3</td>\n",
       "      <td>4</td>\n",
       "      <td>13</td>\n",
       "      <td>2992375</td>\n",
       "      <td>136087.183300</td>\n",
       "      <td>Gamma</td>\n",
       "    </tr>\n",
       "    <tr>\n",
       "      <th>7518</th>\n",
       "      <td>4</td>\n",
       "      <td>7</td>\n",
       "      <td>7</td>\n",
       "      <td>20247384</td>\n",
       "      <td>314153.816647</td>\n",
       "      <td>Beta</td>\n",
       "    </tr>\n",
       "    <tr>\n",
       "      <th>7517</th>\n",
       "      <td>5</td>\n",
       "      <td>6</td>\n",
       "      <td>2</td>\n",
       "      <td>8456427</td>\n",
       "      <td>117043.133370</td>\n",
       "      <td>Alpha</td>\n",
       "    </tr>\n",
       "    <tr>\n",
       "      <th>...</th>\n",
       "      <td>...</td>\n",
       "      <td>...</td>\n",
       "      <td>...</td>\n",
       "      <td>...</td>\n",
       "      <td>...</td>\n",
       "      <td>...</td>\n",
       "    </tr>\n",
       "    <tr>\n",
       "      <th>20197</th>\n",
       "      <td>349</td>\n",
       "      <td>3</td>\n",
       "      <td>19</td>\n",
       "      <td>12072698</td>\n",
       "      <td>184549.450049</td>\n",
       "      <td>Alpha</td>\n",
       "    </tr>\n",
       "    <tr>\n",
       "      <th>14860</th>\n",
       "      <td>350</td>\n",
       "      <td>5</td>\n",
       "      <td>24</td>\n",
       "      <td>15999456</td>\n",
       "      <td>232859.933558</td>\n",
       "      <td>Alpha</td>\n",
       "    </tr>\n",
       "    <tr>\n",
       "      <th>20289</th>\n",
       "      <td>351</td>\n",
       "      <td>4</td>\n",
       "      <td>21</td>\n",
       "      <td>5777280</td>\n",
       "      <td>227799.000314</td>\n",
       "      <td>Gamma</td>\n",
       "    </tr>\n",
       "    <tr>\n",
       "      <th>4580</th>\n",
       "      <td>352</td>\n",
       "      <td>6</td>\n",
       "      <td>9</td>\n",
       "      <td>2172744</td>\n",
       "      <td>180949.433712</td>\n",
       "      <td>Gamma</td>\n",
       "    </tr>\n",
       "    <tr>\n",
       "      <th>23488</th>\n",
       "      <td>353</td>\n",
       "      <td>4</td>\n",
       "      <td>12</td>\n",
       "      <td>33670104</td>\n",
       "      <td>621071.733518</td>\n",
       "      <td>Beta</td>\n",
       "    </tr>\n",
       "  </tbody>\n",
       "</table>\n",
       "<p>353 rows × 6 columns</p>\n",
       "</div>"
      ],
      "text/plain": [
       "       FILE_ID  FILE_SIZE  TOPIC_ID  TOPIC_VOLUME  TOPIC_DENSITY TOPIC_ROLE\n",
       "16503        1          5        13       2992375  136087.183300      Gamma\n",
       "20291        2          2        16       1445325  105013.899899      Gamma\n",
       "18275        3          4        13       2992375  136087.183300      Gamma\n",
       "7518         4          7         7      20247384  314153.816647       Beta\n",
       "7517         5          6         2       8456427  117043.133370      Alpha\n",
       "...        ...        ...       ...           ...            ...        ...\n",
       "20197      349          3        19      12072698  184549.450049      Alpha\n",
       "14860      350          5        24      15999456  232859.933558      Alpha\n",
       "20289      351          4        21       5777280  227799.000314      Gamma\n",
       "4580       352          6         9       2172744  180949.433712      Gamma\n",
       "23488      353          4        12      33670104  621071.733518       Beta\n",
       "\n",
       "[353 rows x 6 columns]"
      ]
     },
     "execution_count": 286,
     "metadata": {},
     "output_type": "execute_result"
    }
   ],
   "source": [
    "files   = producers[producers['TYPE']=='UPLOAD']\n",
    "files   = files.sort_values('FILE_ID')\n",
    "files   = files[['FILE_ID','FILE_SIZE','TOPIC_ID','TOPIC_VOLUME','TOPIC_DENSITY','TOPIC_ROLE']]\n",
    "files"
   ]
  },
  {
   "cell_type": "markdown",
   "id": "injured-hostel",
   "metadata": {},
   "source": [
    "# Temas\n",
    "Se extraen los temas los cuales son asignados a los archivos"
   ]
  },
  {
   "cell_type": "code",
   "execution_count": 287,
   "id": "technical-subscriber",
   "metadata": {},
   "outputs": [
    {
     "data": {
      "text/plain": [
       "(26, 3)"
      ]
     },
     "execution_count": 287,
     "metadata": {},
     "output_type": "execute_result"
    }
   ],
   "source": [
    "topics  = files[['TOPIC_ID','TOPIC_VOLUME','TOPIC_DENSITY']] \n",
    "_topics = topics.drop_duplicates()\n",
    "_topics = _topics.sort_values('TOPIC_ID')\n",
    "_topics.shape"
   ]
  },
  {
   "cell_type": "markdown",
   "id": "modular-institute",
   "metadata": {},
   "source": [
    "# Spectral & Agglomerative Clustering"
   ]
  },
  {
   "cell_type": "markdown",
   "id": "concerned-general",
   "metadata": {},
   "source": [
    "## Creacion del grafo\n",
    "La generacion se lleva acabo utilizando **Neo4j**, una base de datos basada en grafos."
   ]
  },
  {
   "cell_type": "code",
   "execution_count": 165,
   "id": "active-wound",
   "metadata": {},
   "outputs": [],
   "source": [
    "from neo4j import GraphDatabase"
   ]
  },
  {
   "cell_type": "code",
   "execution_count": 222,
   "id": "consistent-former",
   "metadata": {},
   "outputs": [],
   "source": [
    "class Neo4J:\n",
    "    def __init__(self, uri, user, password):\n",
    "        self.driver = GraphDatabase.driver(uri, auth=(user, password))\n",
    "\n",
    "    def close(self):\n",
    "        self.driver.close()\n",
    "\n",
    "    def getSession(self):\n",
    "        return self.driver.session()\n",
    "    def print_greeting(self, message):\n",
    "        with self.getSession() as session:\n",
    "            greeting = session.write_transaction(self._create_and_return_greeting, message)\n",
    "            print(greeting)\n",
    "    def writeTransaction(self,fx,*args,**kwargs):\n",
    "        return self.getSession().write_transaction(fx,*args,**kwargs)\n",
    "\n",
    "\n",
    "def setToCluster(tx,data):\n",
    "    \n",
    "    query = \"\"\"\n",
    "        MATCH (n) WHERE n.nid IN $node_ids\n",
    "            SET n: {}\n",
    "            RETURN n\n",
    "    \"\"\".format(data[1])\n",
    "#     query = \"\"\"\n",
    "#         MATCH (n) WHERE id(n) IN $node_ids\n",
    "#             SET n: {}\n",
    "#             RETURN n\n",
    "#     \"\"\".format(data[1])\n",
    "    return tx.run(query,node_ids=data[0])\n",
    "def createConsumer(tx,data):\n",
    "    user_id = data[0]\n",
    "    consume = data[1]\n",
    "    file_id = data[2]\n",
    "    query =\"\"\"\n",
    "    MATCH (f:File {file_id:$file_id})\n",
    "    MERGE (c:Consumer {user_id: $user_id,consume:$consume })\n",
    "    MERGE (f)<-[d:DOWNLOAD]-(c)\n",
    "    ON CREATE SET d.count =1\n",
    "    ON MATCH SET d.count = d.count+1\n",
    "    RETURN f,d,c\n",
    "    \"\"\"\n",
    "    \n",
    "    return tx.run(query,user_id=user_id,consume=consume,file_id=file_id)\n",
    "\n",
    "def createProducer(tx,data):\n",
    "    user_id        = data[0]\n",
    "    production     = data[1] \n",
    "    consume        = data[2]\n",
    "    consume_others = data[3]\n",
    "    user_volume    = data[4]\n",
    "    user_density   = data[5]\n",
    "    user_role      = data[6]\n",
    "    file_id        = data[7]\n",
    "    file_size      = data[8]\n",
    "    topic_id       = data[9]\n",
    "    topic_volume   = data[10]\n",
    "    topic_density  = data[11]\n",
    "    topic_role     = data[12]\n",
    "#     query = \"\"\"\n",
    "#         MERGE (p:Producer {user_id:$user_id,production:$production,volume:$volume,density:$density,consume:$consume,consume_others:$consume_others,role:$role})\n",
    "#         MERGE (f:File {file_id:$file_id,size:$file_size})\n",
    "#         MERGE (t:Topic {topic_id: $topic_id,volume:$topic_volume,density: $topic_density,role:$topic_role})\n",
    "#         MERGE (p)-[u:UPLOAD]->(f)-[ht:HAS_TOPIC]->(t)\n",
    "#         RETURN p,u,f,ht,t\n",
    "#     \"\"\"\n",
    "    query = \"\"\"\n",
    "        MERGE (p:Producer {user_id:$user_id,production:$production,volume:$volume,density:$density,consume:$consume,consume_others:$consume_others,role:$role})\n",
    "        MERGE (t:Topic {topic_id: $topic_id,volume:$topic_volume,density: $topic_density,role:$topic_role})\n",
    "        MERGE (p)-[u:UPLOAD]->(t)\n",
    "        RETURN p,u,t\n",
    "    \"\"\"\n",
    "    \n",
    "    return tx.run(query,\n",
    "                        user_id=user_id,\n",
    "                        production=production,\n",
    "                        volume=user_volume,\n",
    "                        density=user_density,\n",
    "                        consume=consume,\n",
    "                        consume_others=consume_others,\n",
    "                        role=user_role,\n",
    "                        file_id=file_id,\n",
    "                        file_size=file_size,\n",
    "                        topic_id=topic_id,\n",
    "                        topic_volume=topic_volume,\n",
    "                        topic_density=topic_density,\n",
    "                        topic_role=topic_role\n",
    "                 )\n",
    "db = Neo4J(\"bolt://localhost:7687\", \"neo4j\", \"password\")\n",
    "# x = db.writeTransaction(fx=getPersons)\n",
    "# print(x,len(x))\n",
    "# db.close()"
   ]
  },
  {
   "cell_type": "markdown",
   "id": "varying-struggle",
   "metadata": {},
   "source": [
    "# Crear Productores\n",
    "Se crean los productores utilizando la API de **Neo4j**"
   ]
  },
  {
   "cell_type": "code",
   "execution_count": 197,
   "id": "certain-momentum",
   "metadata": {},
   "outputs": [],
   "source": [
    "# producers_data = producers[['USER_ID','PRODUCTION','CONSUME','CONSUMER_OTHERS','USER_VOLUME','USER_DENSITY','USER_ROLE']]\n",
    "producers_data  = producers.copy()\n",
    "# producers_data.sort_values(\"USER_ROLE\").head()\n",
    "# producers_data  = producers_data.loc[producers_data['TYPE'] == 'UPLOAD']\n",
    "producers_data  = producers_data.drop([\"OPERATION_ID\",\"TYPE\"],axis=1)\n",
    "# print(producers_data.shape)\n",
    "producers_data  = producers_data.to_numpy().tolist()\n",
    "# producers_data = producers_data.to_numpy()\n",
    "# producers_data.head(5)\n",
    "def runCreateProducers():\n",
    "    for data in producers_data:\n",
    "        db.writeTransaction(createProducer,data)\n",
    "        print(\"Producer[{}] created\".format(data[0]))\n",
    "        time.sleep(.2)\n",
    "    db.close()\n",
    "# producers_data\n",
    "# runCreateProducers()"
   ]
  },
  {
   "cell_type": "markdown",
   "id": "mighty-royal",
   "metadata": {},
   "source": [
    "Se muestra el resultado que se obtiene, utilizando la herramienta de visualizacion de **Neo4j**. "
   ]
  },
  {
   "cell_type": "markdown",
   "id": "trained-graduation",
   "metadata": {},
   "source": [
    "![title](images/p0.png)"
   ]
  },
  {
   "cell_type": "markdown",
   "id": "destroyed-track",
   "metadata": {},
   "source": [
    "En la misma operacion se lleva acabo la creacion de los archivos y la relacion de carga con el usuario productor"
   ]
  },
  {
   "cell_type": "markdown",
   "id": "experienced-rover",
   "metadata": {},
   "source": [
    "![title](images/puf.png)"
   ]
  },
  {
   "cell_type": "markdown",
   "id": "qualified-blood",
   "metadata": {},
   "source": [
    "A continuacion se muestra una imagen de los productores, la realacion de carga de archivos y los temas a los que pertenecen los archivos"
   ]
  },
  {
   "cell_type": "markdown",
   "id": "different-stable",
   "metadata": {},
   "source": [
    "![title](images/pufhtt.png)"
   ]
  },
  {
   "cell_type": "markdown",
   "id": "cognitive-spelling",
   "metadata": {},
   "source": [
    "# Crear consumidores\n",
    "Se crearon los consumidores"
   ]
  },
  {
   "cell_type": "code",
   "execution_count": 542,
   "id": "considerable-sullivan",
   "metadata": {
    "collapsed": true
   },
   "outputs": [],
   "source": [
    "consumers_data = consumers.copy()\n",
    "consumers_data = consumers_data.drop(['TYPE','FILE_SIZE','TOPIC_ID','TOPIC_VOLUME','TOPIC_DENSITY','OPERATION_ID','CONSUME_OTHERS','USER_VOLUME','USER_DENSITY','USER_ROLE','PRODUCTION','TOPIC_ROLE'], axis=1)\n",
    "# consumers_data[consumers_data['FILE_ID']==113]\n",
    "consumers_data = consumers_data.to_numpy().tolist()[100:]\n",
    "\n",
    "def runCreateConsumers(data):\n",
    "    for c in data:\n",
    "        db.writeTransaction(createConsumers,c)\n",
    "        print(\"Consumer[{}]\".format(c[0]))\n",
    "        time.sleep(.2)\n",
    "# runCreateConsumers(consumers_data)\n",
    "# consumers_data[100:]['FILE_ID'].unique()"
   ]
  },
  {
   "cell_type": "markdown",
   "id": "outer-jurisdiction",
   "metadata": {},
   "source": [
    "El resultado de los consumidores, unicamente se muestran 2000 nodos, pero en realidad existen 8000 consumidores. "
   ]
  },
  {
   "cell_type": "markdown",
   "id": "small-bicycle",
   "metadata": {},
   "source": [
    "![title](images/c2.png)"
   ]
  },
  {
   "cell_type": "markdown",
   "id": "nominated-glance",
   "metadata": {},
   "source": [
    "# Creacion de matriz de adyacencia\n",
    "En teoría de grafos y ciencias de la computación, una matriz de adyacencia es una matriz cuadrada que se usa para representar un gráfico finito."
   ]
  },
  {
   "cell_type": "code",
   "execution_count": 227,
   "id": "improving-consolidation",
   "metadata": {},
   "outputs": [
    {
     "data": {
      "text/plain": [
       "array([[0., 1., 0., ..., 0., 0., 0.],\n",
       "       [1., 0., 1., ..., 0., 0., 0.],\n",
       "       [0., 1., 0., ..., 0., 0., 0.],\n",
       "       ...,\n",
       "       [0., 0., 0., ..., 0., 0., 0.],\n",
       "       [0., 0., 0., ..., 0., 0., 1.],\n",
       "       [0., 0., 0., ..., 0., 1., 0.]])"
      ]
     },
     "execution_count": 227,
     "metadata": {},
     "output_type": "execute_result"
    }
   ],
   "source": [
    "A = np.load('./data/am.npy')\n",
    "A"
   ]
  },
  {
   "cell_type": "markdown",
   "id": "potential-renaissance",
   "metadata": {},
   "source": [
    "# Matriz de proximidad"
   ]
  },
  {
   "cell_type": "code",
   "execution_count": 228,
   "id": "breathing-works",
   "metadata": {},
   "outputs": [
    {
     "data": {
      "text/plain": [
       "array([[ 0.,  1.,  2., ..., 19., 12., 11.],\n",
       "       [ 1.,  0.,  1., ..., 18., 11., 10.],\n",
       "       [ 2.,  1.,  0., ..., 17., 10.,  9.],\n",
       "       ...,\n",
       "       [19., 18., 17., ...,  0., 23., 22.],\n",
       "       [12., 11., 10., ..., 23.,  0.,  1.],\n",
       "       [11., 10.,  9., ..., 22.,  1.,  0.]])"
      ]
     },
     "execution_count": 228,
     "metadata": {},
     "output_type": "execute_result"
    }
   ],
   "source": [
    "SPA = shortest_path(A,directed = False)\n",
    "SPA[SPA == np.inf] =0\n",
    "SPA"
   ]
  },
  {
   "cell_type": "markdown",
   "id": "catholic-immune",
   "metadata": {},
   "source": [
    "# Matriz de grados\n",
    "En teoría de grafos, la matriz de grados es una matriz diagonal que contiene información sobre el grado de cada vértice."
   ]
  },
  {
   "cell_type": "code",
   "execution_count": 229,
   "id": "corresponding-request",
   "metadata": {},
   "outputs": [
    {
     "data": {
      "text/plain": [
       "array([[ 1.,  0.,  0., ...,  0.,  0.,  0.],\n",
       "       [ 0.,  2.,  0., ...,  0.,  0.,  0.],\n",
       "       [ 0.,  0., 15., ...,  0.,  0.,  0.],\n",
       "       ...,\n",
       "       [ 0.,  0.,  0., ...,  2.,  0.,  0.],\n",
       "       [ 0.,  0.,  0., ...,  0.,  1.,  0.],\n",
       "       [ 0.,  0.,  0., ...,  0.,  0.,  2.]])"
      ]
     },
     "execution_count": 229,
     "metadata": {},
     "output_type": "execute_result"
    }
   ],
   "source": [
    "D = np.diag(A.sum(axis=1))\n",
    "D"
   ]
  },
  {
   "cell_type": "markdown",
   "id": "corrected-subject",
   "metadata": {},
   "source": [
    "# Laplacian\n",
    "La teoría de grafos, la matriz laplaciana, también llamada grafo laplaciano, matriz de admitancia, matriz de Kirchhoff o laplaciana discreta, es una representación matricial de un grafo. La matriz laplaciana se puede utilizar para encontrar muchas propiedades útiles de un gráfico."
   ]
  },
  {
   "cell_type": "code",
   "execution_count": 230,
   "id": "roman-cattle",
   "metadata": {
    "scrolled": true
   },
   "outputs": [
    {
     "data": {
      "text/plain": [
       "array([[ 1., -1.,  0., ...,  0.,  0.,  0.],\n",
       "       [-1.,  2., -1., ...,  0.,  0.,  0.],\n",
       "       [ 0., -1., 15., ...,  0.,  0.,  0.],\n",
       "       ...,\n",
       "       [ 0.,  0.,  0., ...,  2.,  0.,  0.],\n",
       "       [ 0.,  0.,  0., ...,  0.,  1., -1.],\n",
       "       [ 0.,  0.,  0., ...,  0., -1.,  2.]])"
      ]
     },
     "execution_count": 230,
     "metadata": {},
     "output_type": "execute_result"
    }
   ],
   "source": [
    "L = D-A\n",
    "L"
   ]
  },
  {
   "cell_type": "markdown",
   "id": "comprehensive-adapter",
   "metadata": {},
   "source": [
    "# Eigenvalues y Eigenvector"
   ]
  },
  {
   "cell_type": "code",
   "execution_count": 231,
   "id": "combined-sweet",
   "metadata": {},
   "outputs": [
    {
     "data": {
      "text/plain": [
       "<matplotlib.collections.PathCollection at 0x7f9e5d38c978>"
      ]
     },
     "execution_count": 231,
     "metadata": {},
     "output_type": "execute_result"
    },
    {
     "data": {
      "image/png": "[encoded data removed]",
      "text/plain": [
       "<Figure size 1080x1080 with 1 Axes>"
      ]
     },
     "metadata": {
      "needs_background": "light"
     },
     "output_type": "display_data"
    }
   ],
   "source": [
    "# import scipy as scp\n",
    "vals, vecs = np.linalg.eigh(L)\n",
    "# vals, vecs = np.linalg.eig(L)\n",
    "vecs = vecs[:,np.argsort(vals)]\n",
    "vals = vals[np.argsort(vals)]\n",
    "# vecs.shape,vals.shape\n",
    "fg,ax =plt.subplots()\n",
    "ax.set_xlabel(\"Index\")\n",
    "ax.set_ylabel(\"Eigenvalue\")\n",
    "ax.scatter(range(vals.shape[0]),vals,color =\"black\")\n",
    "# plt.savefig(\"./images/eigenvals.jpg\")\n",
    "# sns.scatterplot(range(vals.shape[0]),vals,ax=ax)\n",
    "# vecs\n"
   ]
  },
  {
   "cell_type": "markdown",
   "id": "lined-management",
   "metadata": {},
   "source": [
    "# Utilerias para pruebas"
   ]
  },
  {
   "cell_type": "code",
   "execution_count": 215,
   "id": "classified-natural",
   "metadata": {},
   "outputs": [],
   "source": [
    "\n",
    "def prepareScorePlot():\n",
    "    fig, ax    = plt.subplots(len(score_names),1)\n",
    "    def f(i,scores,labels):\n",
    "        ax[i].plot(n_clusters,scores[0],'r--',label = labels[0])\n",
    "        ax[i].plot(n_clusters,scores[1],'b--',label = labels[1])\n",
    "        ax[i].set_xlabel(\"Num. Clusters\")\n",
    "        ax[i].set_ylabel(\"Score\")\n",
    "        ax[i].set_xticks(n_clusters)\n",
    "        ax[i].legend(loc='best')\n",
    "    return f\n",
    "        \n",
    "def neo4jPlot(data):\n",
    "    for d in data:\n",
    "        db.writeTransaction(setToCluster,d)\n",
    "def plotScoresByScoreName(**kwargs):\n",
    "    labels = kwargs['labels']\n",
    "    data   = kwargs['data']\n",
    "    score_names = kwargs['score_names']\n",
    "    f = prepareScorePlot() \n",
    "    for i,key in enumerate(score_names):\n",
    "        f(i,data[key],labels[key])"
   ]
  },
  {
   "cell_type": "markdown",
   "id": "initial-seminar",
   "metadata": {},
   "source": [
    "# Pruebas"
   ]
  },
  {
   "cell_type": "code",
   "execution_count": 232,
   "id": "ranging-terminology",
   "metadata": {
    "scrolled": true
   },
   "outputs": [
    {
     "data": {
      "image/png": "[encoded data removed]",
      "text/plain": [
       "<Figure size 1080x1080 with 4 Axes>"
      ]
     },
     "metadata": {
      "needs_background": "light"
     },
     "output_type": "display_data"
    }
   ],
   "source": [
    "# clusters = (2,5,10,15,20)\n",
    "eigen_solvers =('arpack', 'lobpcg', 'amg') #The eigenvalue decomposition strategy to use\n",
    "n_components  = 6 # Number of eigen vectors to use for the spectral embedding\n",
    "random_satate = (RandomState(None),10) # A pseudo random number generator used for the initialization of the lobpcg eigen vectors decomposition when eigen_solver='amg' and by the K-Means initialization\n",
    "n_init        = 10 # Number of time the k-means algorithm will be run with different centroid seeds. \n",
    "gamma         = 1.0 # Kernel coefficient for rbf, poly, sigmoid, laplacian and chi2 kernels\n",
    "affinity      = ('precomputed','nearest_neighbors','rbf','precomputed_nearest_neighbors')\n",
    "n_neighbors   = 10 # Number of neighbors to use when constructing the affinity matrix using the nearest neighbors method\n",
    "eigen_tol     = 0.0 # Stopping criterion for eigendecomposition of the Laplacian matrix when eigen_solver='arpack'\n",
    "assign_labels = ('kmeans','discretize') # The strategy to use to assign labels in the embedding space\n",
    "degree        = 3 # Degree of the polynomial kernel. Ignored by other kernels\n",
    "coef0         = 1 # Zero coefficient for polynomial and sigmoid kernels.\n",
    "n_jobs        = -1 # -1 means using all processors.\n",
    "verbose       = True\n",
    "def runSC(**kwargs):\n",
    "    #score_results =[[],[],[],[],[],[]]\n",
    "    score_results = {'sh':([],[]),'ch':([],[]),'db':([],[]),'dun':([],[])}\n",
    "    show_scores   = kwargs['show_scores']\n",
    "#     spec\n",
    "    visualize     = kwargs['visualize']\n",
    "    X             = kwargs['X']\n",
    "    sX            = standarize(X=X)\n",
    "    clusters      = kwargs['n_clusters']\n",
    "    for k in clusters:\n",
    "        agglomerativeClus = AgglomerativeClustering(\n",
    "            n_clusters=k,\n",
    "            affinity='euclidean',\n",
    "            connectivity=A).fit(sX)\n",
    "        \n",
    "        spectralClus = SpectralClustering(n_clusters=k,\n",
    "                                n_components=k,\n",
    "                                assign_labels=assign_labels[0],\n",
    "                                random_state=random_satate[0],\n",
    "                                affinity=affinity[1],\n",
    "                                eigen_solver=eigen_solvers[0]\n",
    "                               ).fit(X)\n",
    "#         \n",
    "        spectralClusLabels      = spectralClus.labels_\n",
    "        agglomerativeClusLabels = agglomerativeClus.labels_\n",
    "        scUniqueLabels          = np.unique(spectralClusLabels)\n",
    "        acUniqueLabels          = np.unique(agglomerativeClusLabels)\n",
    "        if(visualize):\n",
    "            scColors =  list(map(lambda x: [np.where(spectralClusLabels==x)[0].tolist(),'C'+str(x),x],scUniqueLabels))\n",
    "            neo4jPlot(scColors)\n",
    "            input(\"Continue\")\n",
    "            agColors =  list(map(lambda x: [np.where(agglomerativeClusLabels==x)[0].tolist(),'C'+str(x),x],acUniqueLabels))\n",
    "            neo4jPlot(agColors)\n",
    "            input(\"Continue\")\n",
    "        \n",
    "        if(show_scores):\n",
    "            sillhoutte_scores = (shs(sX,spectralClusLabels), shs(sX,agglomerativeClusLabels))\n",
    "            calinki_scores =(chs(sX,spectralClusLabels), chs(sX,agglomerativeClusLabels))\n",
    "            davies_scores  = (dbs(sX,spectralClusLabels),dbs(sX,agglomerativeClusLabels))\n",
    "            dunIndex_scores   = (dunn(sX,spectralClusLabels), dunn(sX,agglomerativeClusLabels))\n",
    "            score_results['sh'][0].append(sillhoutte_scores[0])\n",
    "            score_results['sh'][1].append(sillhoutte_scores[1])\n",
    "            score_results['ch'][0].append(calinki_scores[0])\n",
    "            score_results['ch'][1].append(calinki_scores[1])\n",
    "            score_results['db'][0].append(davies_scores[0])\n",
    "            score_results['db'][1].append(davies_scores[1])\n",
    "            score_results['dun'][0].append(dunIndex_scores[0])\n",
    "            score_results['dun'][1].append(dunIndex_scores[1])\n",
    "    return score_results\n",
    "n_clusters = list(range(2,15))\n",
    "score_names =('sh','ch','db','dun')\n",
    "plot_labels = {\n",
    "    'sh':('Silhouette(Spectral Clustering)','Silhouette(Agglomerative)'),\n",
    "    'ch':('Calinski–Harabasz(Spectral Clustering','Calinski–Harabasz(Agglomerative)'),\n",
    "    'db': ('Davies–Bouldin(Spectral Clustering','Davies–Bouldin(Agglomerative)'),\n",
    "    'dun': (\"Dunn index(Spectral Clustering)\",\"Dunn index(Agglomerative)\")\n",
    "}\n",
    "scores     = runSC(X=SPA,\n",
    "                   n_clusters=n_clusters,\n",
    "                   show_scores=True,\n",
    "                   visualize=False)\n",
    "# print(scores)\n",
    "plotScoresByScoreName(data=scores,labels=plot_labels,score_names=score_names)\n",
    "# plt.savefig('./images/score_v3.jpg')\n",
    "# plt.show()"
   ]
  }
 ],
 "metadata": {
  "kernelspec": {
   "display_name": "Python 3",
   "language": "python",
   "name": "python3"
  },
  "language_info": {
   "codemirror_mode": {
    "name": "ipython",
    "version": 3
   },
   "file_extension": ".py",
   "mimetype": "text/x-python",
   "name": "python",
   "nbconvert_exporter": "python",
   "pygments_lexer": "ipython3",
   "version": "3.6.9"
  }
 },
 "nbformat": 4,
 "nbformat_minor": 5
}
