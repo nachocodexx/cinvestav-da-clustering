{
 "cells": [
  {
   "cell_type": "markdown",
   "id": "broad-springer",
   "metadata": {},
   "source": [
    "# Librerias\n",
    "Se hace uso de un conjunto de librerias para el analisis de datos."
   ]
  },
  {
   "cell_type": "code",
   "execution_count": 287,
   "id": "parental-saying",
   "metadata": {},
   "outputs": [],
   "source": [
    "import pandas as pd\n",
    "import numpy as np\n",
    "import seaborn as sns\n",
    "import matplotlib.pyplot as plt\n",
    "from sklearn import preprocessing\n",
    "from sklearn.cluster import SpectralClustering,AgglomerativeClustering\n",
    "import scipy.cluster.hierarchy as sch\n",
    "from scipy.cluster.hierarchy import dendrogram,linkage\n",
    "import time\n",
    "import json\n",
    "import codecs\n",
    "from sklearn.cluster import KMeans\n",
    "from functools import reduce\n",
    "import operator \n",
    "from sklearn.metrics import calinski_harabasz_score as chs,davies_bouldin_score as dbs,silhouette_score as shs\n",
    "from scipy.sparse.csgraph import laplacian\n",
    "from numpy.random import RandomState,BitGenerator\n",
    "import warnings\n",
    "from scipy.sparse.csgraph import shortest_path\n",
    "from validclust.validclust.indices import dunn\n",
    "plt.rcParams[\"figure.figsize\"] = (15,15)\n",
    "warnings.filterwarnings(\"ignore\")\n",
    "\n",
    "ss = preprocessing.StandardScaler()\n",
    "ac = AgglomerativeClustering()"
   ]
  },
  {
   "cell_type": "markdown",
   "id": "mounted-elder",
   "metadata": {},
   "source": [
    "# Funciones de utileria\n",
    "Funciones las cuales se utilizan de una forma recurrente."
   ]
  },
  {
   "cell_type": "code",
   "execution_count": 185,
   "id": "dedicated-aluminum",
   "metadata": {},
   "outputs": [],
   "source": [
    "def standarize(**kwargs):\n",
    "    X = kwargs['X']\n",
    "    scaler = ss.fit(X)\n",
    "    return scaler.transform(X)"
   ]
  },
  {
   "cell_type": "markdown",
   "id": "hindu-hamilton",
   "metadata": {},
   "source": [
    "# Importar dataset\n",
    "Se importan los datos utilizando Pandas"
   ]
  },
  {
   "cell_type": "code",
   "execution_count": 288,
   "id": "general-driver",
   "metadata": {},
   "outputs": [
    {
     "data": {
      "text/html": [
       "<div>\n",
       "<style scoped>\n",
       "    .dataframe tbody tr th:only-of-type {\n",
       "        vertical-align: middle;\n",
       "    }\n",
       "\n",
       "    .dataframe tbody tr th {\n",
       "        vertical-align: top;\n",
       "    }\n",
       "\n",
       "    .dataframe thead th {\n",
       "        text-align: right;\n",
       "    }\n",
       "</style>\n",
       "<table border=\"1\" class=\"dataframe\">\n",
       "  <thead>\n",
       "    <tr style=\"text-align: right;\">\n",
       "      <th></th>\n",
       "      <th>OPERATION_ID</th>\n",
       "      <th>TYPE</th>\n",
       "      <th>USER_ID</th>\n",
       "      <th>PRODUCTION</th>\n",
       "      <th>CONSUME</th>\n",
       "      <th>CONSUME_OTHERS</th>\n",
       "      <th>USER_VOLUME</th>\n",
       "      <th>USER_DENSITY</th>\n",
       "      <th>USER_ROLE</th>\n",
       "      <th>FILE_ID</th>\n",
       "      <th>FILE_SIZE</th>\n",
       "      <th>TOPIC_ID</th>\n",
       "      <th>TOPIC_VOLUME</th>\n",
       "      <th>TOPIC_DENSITY</th>\n",
       "      <th>TOPIC_ROLE</th>\n",
       "    </tr>\n",
       "  </thead>\n",
       "  <tbody>\n",
       "    <tr>\n",
       "      <th>0</th>\n",
       "      <td>1</td>\n",
       "      <td>UPLOAD</td>\n",
       "      <td>43114731</td>\n",
       "      <td>0.01112</td>\n",
       "      <td>0.00000</td>\n",
       "      <td>0.233515</td>\n",
       "      <td>1764</td>\n",
       "      <td>9.966667</td>\n",
       "      <td>Gamma</td>\n",
       "      <td>100</td>\n",
       "      <td>4</td>\n",
       "      <td>17</td>\n",
       "      <td>5167328</td>\n",
       "      <td>47838.233327</td>\n",
       "      <td>Alpha</td>\n",
       "    </tr>\n",
       "    <tr>\n",
       "      <th>1</th>\n",
       "      <td>2</td>\n",
       "      <td>DOWNLOAD</td>\n",
       "      <td>1405534545</td>\n",
       "      <td>0.00000</td>\n",
       "      <td>0.02224</td>\n",
       "      <td>0.000000</td>\n",
       "      <td>0</td>\n",
       "      <td>0.000000</td>\n",
       "      <td>NaN</td>\n",
       "      <td>100</td>\n",
       "      <td>4</td>\n",
       "      <td>17</td>\n",
       "      <td>5167328</td>\n",
       "      <td>47838.233327</td>\n",
       "      <td>Alpha</td>\n",
       "    </tr>\n",
       "    <tr>\n",
       "      <th>2</th>\n",
       "      <td>2</td>\n",
       "      <td>DOWNLOAD</td>\n",
       "      <td>1405534545</td>\n",
       "      <td>0.00000</td>\n",
       "      <td>0.02224</td>\n",
       "      <td>0.000000</td>\n",
       "      <td>0</td>\n",
       "      <td>0.000000</td>\n",
       "      <td>NaN</td>\n",
       "      <td>100</td>\n",
       "      <td>4</td>\n",
       "      <td>17</td>\n",
       "      <td>5167328</td>\n",
       "      <td>47838.233327</td>\n",
       "      <td>Alpha</td>\n",
       "    </tr>\n",
       "  </tbody>\n",
       "</table>\n",
       "</div>"
      ],
      "text/plain": [
       "   OPERATION_ID      TYPE     USER_ID  PRODUCTION  CONSUME  CONSUME_OTHERS  \\\n",
       "0             1    UPLOAD    43114731     0.01112  0.00000        0.233515   \n",
       "1             2  DOWNLOAD  1405534545     0.00000  0.02224        0.000000   \n",
       "2             2  DOWNLOAD  1405534545     0.00000  0.02224        0.000000   \n",
       "\n",
       "   USER_VOLUME  USER_DENSITY USER_ROLE  FILE_ID  FILE_SIZE  TOPIC_ID  \\\n",
       "0         1764      9.966667     Gamma      100          4        17   \n",
       "1            0      0.000000       NaN      100          4        17   \n",
       "2            0      0.000000       NaN      100          4        17   \n",
       "\n",
       "   TOPIC_VOLUME  TOPIC_DENSITY TOPIC_ROLE  \n",
       "0       5167328   47838.233327      Alpha  \n",
       "1       5167328   47838.233327      Alpha  \n",
       "2       5167328   47838.233327      Alpha  "
      ]
     },
     "execution_count": 288,
     "metadata": {},
     "output_type": "execute_result"
    }
   ],
   "source": [
    "df = pd.read_csv('./data/op01.csv')\n",
    "oldCols =df.columns\n",
    "columns = df.columns\n",
    "useless_cols = [\"OPERATION_ID\",\"USER_ID\",\"TYPE\",\"TOPIC_ID\",\"TOPIC_ROLE\",\"USER_ROLE\",\"FILE_ID\"]\n",
    "df.head(3)"
   ]
  },
  {
   "cell_type": "markdown",
   "id": "conceptual-gender",
   "metadata": {},
   "source": [
    "# Visualizar informacion del dataset\n",
    "Se muestra la informacion basica sobre el conjunto de datos, como los tipos de cada columna y su nombre y el tamaño en Megabytes"
   ]
  },
  {
   "cell_type": "code",
   "execution_count": 187,
   "id": "pharmaceutical-celebrity",
   "metadata": {},
   "outputs": [
    {
     "name": "stdout",
     "output_type": "stream",
     "text": [
      "<class 'pandas.core.frame.DataFrame'>\n",
      "RangeIndex: 8993 entries, 0 to 8992\n",
      "Data columns (total 15 columns):\n",
      " #   Column          Non-Null Count  Dtype  \n",
      "---  ------          --------------  -----  \n",
      " 0   OPERATION_ID    8993 non-null   int64  \n",
      " 1   TYPE            8993 non-null   object \n",
      " 2   USER_ID         8993 non-null   int64  \n",
      " 3   PRODUCTION      8993 non-null   float64\n",
      " 4   CONSUME         8993 non-null   float64\n",
      " 5   CONSUME_OTHERS  8993 non-null   float64\n",
      " 6   USER_VOLUME     8993 non-null   int64  \n",
      " 7   USER_DENSITY    8993 non-null   float64\n",
      " 8   USER_ROLE       230 non-null    object \n",
      " 9   FILE_ID         8993 non-null   int64  \n",
      " 10  FILE_SIZE       8993 non-null   int64  \n",
      " 11  TOPIC_ID        8993 non-null   int64  \n",
      " 12  TOPIC_VOLUME    8993 non-null   int64  \n",
      " 13  TOPIC_DENSITY   8993 non-null   float64\n",
      " 14  TOPIC_ROLE      8993 non-null   object \n",
      "dtypes: float64(5), int64(7), object(3)\n",
      "memory usage: 1.0+ MB\n"
     ]
    }
   ],
   "source": [
    "df.info()"
   ]
  },
  {
   "cell_type": "markdown",
   "id": "associate-upgrade",
   "metadata": {},
   "source": [
    "# Resumen estadistico\n",
    "Se realiza un resumen estadistico de las columnas, el cual contiene 8 columnas, entre las cuales se encuentran:\n",
    "- **count**: Cantidad de registros \n",
    "- **mean** : La media aritmetica \n",
    "- **std**  : La desviacion estandar \n",
    "- **min**  : Valor minimo \n",
    "- **25%**  : Percentil 25\n",
    "- **50%**  : Percentil 50 el cual es equivalente a la mediana\n",
    "- **75%**  : Percentil 75\n",
    "- **max**  : Valor maximo"
   ]
  },
  {
   "cell_type": "code",
   "execution_count": 188,
   "id": "vertical-register",
   "metadata": {},
   "outputs": [
    {
     "data": {
      "text/html": [
       "<div>\n",
       "<style scoped>\n",
       "    .dataframe tbody tr th:only-of-type {\n",
       "        vertical-align: middle;\n",
       "    }\n",
       "\n",
       "    .dataframe tbody tr th {\n",
       "        vertical-align: top;\n",
       "    }\n",
       "\n",
       "    .dataframe thead th {\n",
       "        text-align: right;\n",
       "    }\n",
       "</style>\n",
       "<table border=\"1\" class=\"dataframe\">\n",
       "  <thead>\n",
       "    <tr style=\"text-align: right;\">\n",
       "      <th></th>\n",
       "      <th>count</th>\n",
       "      <th>mean</th>\n",
       "      <th>std</th>\n",
       "      <th>min</th>\n",
       "      <th>25%</th>\n",
       "      <th>50%</th>\n",
       "      <th>75%</th>\n",
       "      <th>max</th>\n",
       "    </tr>\n",
       "  </thead>\n",
       "  <tbody>\n",
       "    <tr>\n",
       "      <th>OPERATION_ID</th>\n",
       "      <td>8993.0</td>\n",
       "      <td>3.869080e+03</td>\n",
       "      <td>2.309459e+03</td>\n",
       "      <td>1.00</td>\n",
       "      <td>1.829000e+03</td>\n",
       "      <td>3.793000e+03</td>\n",
       "      <td>5.875000e+03</td>\n",
       "      <td>7.970000e+03</td>\n",
       "    </tr>\n",
       "    <tr>\n",
       "      <th>USER_ID</th>\n",
       "      <td>8993.0</td>\n",
       "      <td>8.207837e+08</td>\n",
       "      <td>8.367043e+08</td>\n",
       "      <td>6161.00</td>\n",
       "      <td>1.768264e+08</td>\n",
       "      <td>3.749968e+08</td>\n",
       "      <td>1.519623e+09</td>\n",
       "      <td>2.887160e+09</td>\n",
       "    </tr>\n",
       "    <tr>\n",
       "      <th>PRODUCTION</th>\n",
       "      <td>8993.0</td>\n",
       "      <td>4.129879e-04</td>\n",
       "      <td>3.123724e-03</td>\n",
       "      <td>0.00</td>\n",
       "      <td>0.000000e+00</td>\n",
       "      <td>0.000000e+00</td>\n",
       "      <td>0.000000e+00</td>\n",
       "      <td>6.671856e-02</td>\n",
       "    </tr>\n",
       "    <tr>\n",
       "      <th>CONSUME</th>\n",
       "      <td>8993.0</td>\n",
       "      <td>1.855354e-02</td>\n",
       "      <td>3.828559e-02</td>\n",
       "      <td>0.00</td>\n",
       "      <td>1.111976e-02</td>\n",
       "      <td>1.111976e-02</td>\n",
       "      <td>1.111976e-02</td>\n",
       "      <td>4.781497e-01</td>\n",
       "    </tr>\n",
       "    <tr>\n",
       "      <th>CONSUME_OTHERS</th>\n",
       "      <td>8993.0</td>\n",
       "      <td>3.014688e-02</td>\n",
       "      <td>3.318166e-01</td>\n",
       "      <td>0.00</td>\n",
       "      <td>0.000000e+00</td>\n",
       "      <td>0.000000e+00</td>\n",
       "      <td>0.000000e+00</td>\n",
       "      <td>1.000778e+01</td>\n",
       "    </tr>\n",
       "    <tr>\n",
       "      <th>USER_VOLUME</th>\n",
       "      <td>8993.0</td>\n",
       "      <td>4.739069e+03</td>\n",
       "      <td>1.166155e+05</td>\n",
       "      <td>0.00</td>\n",
       "      <td>0.000000e+00</td>\n",
       "      <td>0.000000e+00</td>\n",
       "      <td>0.000000e+00</td>\n",
       "      <td>4.320000e+06</td>\n",
       "    </tr>\n",
       "    <tr>\n",
       "      <th>USER_DENSITY</th>\n",
       "      <td>8993.0</td>\n",
       "      <td>1.297801e+02</td>\n",
       "      <td>1.584705e+03</td>\n",
       "      <td>0.00</td>\n",
       "      <td>0.000000e+00</td>\n",
       "      <td>0.000000e+00</td>\n",
       "      <td>0.000000e+00</td>\n",
       "      <td>4.336748e+04</td>\n",
       "    </tr>\n",
       "    <tr>\n",
       "      <th>FILE_ID</th>\n",
       "      <td>8993.0</td>\n",
       "      <td>5.624463e+01</td>\n",
       "      <td>3.372575e+01</td>\n",
       "      <td>1.00</td>\n",
       "      <td>2.300000e+01</td>\n",
       "      <td>5.700000e+01</td>\n",
       "      <td>8.400000e+01</td>\n",
       "      <td>1.140000e+02</td>\n",
       "    </tr>\n",
       "    <tr>\n",
       "      <th>FILE_SIZE</th>\n",
       "      <td>8993.0</td>\n",
       "      <td>5.020572e+00</td>\n",
       "      <td>2.005420e+00</td>\n",
       "      <td>1.00</td>\n",
       "      <td>3.000000e+00</td>\n",
       "      <td>5.000000e+00</td>\n",
       "      <td>6.000000e+00</td>\n",
       "      <td>1.000000e+01</td>\n",
       "    </tr>\n",
       "    <tr>\n",
       "      <th>TOPIC_ID</th>\n",
       "      <td>8993.0</td>\n",
       "      <td>1.157000e+01</td>\n",
       "      <td>7.437687e+00</td>\n",
       "      <td>1.00</td>\n",
       "      <td>3.000000e+00</td>\n",
       "      <td>1.200000e+01</td>\n",
       "      <td>1.700000e+01</td>\n",
       "      <td>2.500000e+01</td>\n",
       "    </tr>\n",
       "    <tr>\n",
       "      <th>TOPIC_VOLUME</th>\n",
       "      <td>8993.0</td>\n",
       "      <td>4.942270e+06</td>\n",
       "      <td>3.453246e+06</td>\n",
       "      <td>7.00</td>\n",
       "      <td>1.143521e+06</td>\n",
       "      <td>5.167328e+06</td>\n",
       "      <td>7.602267e+06</td>\n",
       "      <td>1.003422e+07</td>\n",
       "    </tr>\n",
       "    <tr>\n",
       "      <th>TOPIC_DENSITY</th>\n",
       "      <td>8993.0</td>\n",
       "      <td>4.839933e+04</td>\n",
       "      <td>3.093134e+04</td>\n",
       "      <td>5.05</td>\n",
       "      <td>1.711632e+04</td>\n",
       "      <td>4.662073e+04</td>\n",
       "      <td>5.986430e+04</td>\n",
       "      <td>1.056557e+05</td>\n",
       "    </tr>\n",
       "  </tbody>\n",
       "</table>\n",
       "</div>"
      ],
      "text/plain": [
       "                 count          mean           std      min           25%  \\\n",
       "OPERATION_ID    8993.0  3.869080e+03  2.309459e+03     1.00  1.829000e+03   \n",
       "USER_ID         8993.0  8.207837e+08  8.367043e+08  6161.00  1.768264e+08   \n",
       "PRODUCTION      8993.0  4.129879e-04  3.123724e-03     0.00  0.000000e+00   \n",
       "CONSUME         8993.0  1.855354e-02  3.828559e-02     0.00  1.111976e-02   \n",
       "CONSUME_OTHERS  8993.0  3.014688e-02  3.318166e-01     0.00  0.000000e+00   \n",
       "USER_VOLUME     8993.0  4.739069e+03  1.166155e+05     0.00  0.000000e+00   \n",
       "USER_DENSITY    8993.0  1.297801e+02  1.584705e+03     0.00  0.000000e+00   \n",
       "FILE_ID         8993.0  5.624463e+01  3.372575e+01     1.00  2.300000e+01   \n",
       "FILE_SIZE       8993.0  5.020572e+00  2.005420e+00     1.00  3.000000e+00   \n",
       "TOPIC_ID        8993.0  1.157000e+01  7.437687e+00     1.00  3.000000e+00   \n",
       "TOPIC_VOLUME    8993.0  4.942270e+06  3.453246e+06     7.00  1.143521e+06   \n",
       "TOPIC_DENSITY   8993.0  4.839933e+04  3.093134e+04     5.05  1.711632e+04   \n",
       "\n",
       "                         50%           75%           max  \n",
       "OPERATION_ID    3.793000e+03  5.875000e+03  7.970000e+03  \n",
       "USER_ID         3.749968e+08  1.519623e+09  2.887160e+09  \n",
       "PRODUCTION      0.000000e+00  0.000000e+00  6.671856e-02  \n",
       "CONSUME         1.111976e-02  1.111976e-02  4.781497e-01  \n",
       "CONSUME_OTHERS  0.000000e+00  0.000000e+00  1.000778e+01  \n",
       "USER_VOLUME     0.000000e+00  0.000000e+00  4.320000e+06  \n",
       "USER_DENSITY    0.000000e+00  0.000000e+00  4.336748e+04  \n",
       "FILE_ID         5.700000e+01  8.400000e+01  1.140000e+02  \n",
       "FILE_SIZE       5.000000e+00  6.000000e+00  1.000000e+01  \n",
       "TOPIC_ID        1.200000e+01  1.700000e+01  2.500000e+01  \n",
       "TOPIC_VOLUME    5.167328e+06  7.602267e+06  1.003422e+07  \n",
       "TOPIC_DENSITY   4.662073e+04  5.986430e+04  1.056557e+05  "
      ]
     },
     "execution_count": 188,
     "metadata": {},
     "output_type": "execute_result"
    }
   ],
   "source": [
    "df.describe().T"
   ]
  },
  {
   "cell_type": "markdown",
   "id": "reliable-engine",
   "metadata": {},
   "source": [
    "# Productores\n",
    "Se filtran los usuarios productores utilizando la columna **USER_ROLE** "
   ]
  },
  {
   "cell_type": "code",
   "execution_count": 263,
   "id": "confused-nutrition",
   "metadata": {},
   "outputs": [
    {
     "data": {
      "text/html": [
       "<div>\n",
       "<style scoped>\n",
       "    .dataframe tbody tr th:only-of-type {\n",
       "        vertical-align: middle;\n",
       "    }\n",
       "\n",
       "    .dataframe tbody tr th {\n",
       "        vertical-align: top;\n",
       "    }\n",
       "\n",
       "    .dataframe thead th {\n",
       "        text-align: right;\n",
       "    }\n",
       "</style>\n",
       "<table border=\"1\" class=\"dataframe\">\n",
       "  <thead>\n",
       "    <tr style=\"text-align: right;\">\n",
       "      <th></th>\n",
       "      <th>OPERATION_ID</th>\n",
       "      <th>TYPE</th>\n",
       "      <th>USER_ID</th>\n",
       "      <th>PRODUCTION</th>\n",
       "      <th>CONSUME</th>\n",
       "      <th>CONSUME_OTHERS</th>\n",
       "      <th>USER_VOLUME</th>\n",
       "      <th>USER_DENSITY</th>\n",
       "      <th>USER_ROLE</th>\n",
       "      <th>FILE_ID</th>\n",
       "      <th>FILE_SIZE</th>\n",
       "      <th>TOPIC_ID</th>\n",
       "      <th>TOPIC_VOLUME</th>\n",
       "      <th>TOPIC_DENSITY</th>\n",
       "      <th>TOPIC_ROLE</th>\n",
       "    </tr>\n",
       "  </thead>\n",
       "  <tbody>\n",
       "    <tr>\n",
       "      <th>2304</th>\n",
       "      <td>1881</td>\n",
       "      <td>UPLOAD</td>\n",
       "      <td>19769622</td>\n",
       "      <td>0.022240</td>\n",
       "      <td>0.0</td>\n",
       "      <td>3.091293</td>\n",
       "      <td>332488</td>\n",
       "      <td>7033.649979</td>\n",
       "      <td>Alpha</td>\n",
       "      <td>83</td>\n",
       "      <td>7</td>\n",
       "      <td>12</td>\n",
       "      <td>10034220</td>\n",
       "      <td>105655.700111</td>\n",
       "      <td>Beta</td>\n",
       "    </tr>\n",
       "    <tr>\n",
       "      <th>1265</th>\n",
       "      <td>1053</td>\n",
       "      <td>UPLOAD</td>\n",
       "      <td>1574083</td>\n",
       "      <td>0.033359</td>\n",
       "      <td>0.0</td>\n",
       "      <td>3.002335</td>\n",
       "      <td>314550</td>\n",
       "      <td>3371.733329</td>\n",
       "      <td>Alpha</td>\n",
       "      <td>61</td>\n",
       "      <td>7</td>\n",
       "      <td>18</td>\n",
       "      <td>646877</td>\n",
       "      <td>17116.316643</td>\n",
       "      <td>Gamma</td>\n",
       "    </tr>\n",
       "    <tr>\n",
       "      <th>1466</th>\n",
       "      <td>1218</td>\n",
       "      <td>UPLOAD</td>\n",
       "      <td>189379530</td>\n",
       "      <td>0.011120</td>\n",
       "      <td>0.0</td>\n",
       "      <td>1.667964</td>\n",
       "      <td>157500</td>\n",
       "      <td>6108.800001</td>\n",
       "      <td>Alpha</td>\n",
       "      <td>76</td>\n",
       "      <td>7</td>\n",
       "      <td>13</td>\n",
       "      <td>7602267</td>\n",
       "      <td>59864.299968</td>\n",
       "      <td>Beta</td>\n",
       "    </tr>\n",
       "    <tr>\n",
       "      <th>7460</th>\n",
       "      <td>6536</td>\n",
       "      <td>UPLOAD</td>\n",
       "      <td>10581097</td>\n",
       "      <td>0.011120</td>\n",
       "      <td>0.0</td>\n",
       "      <td>1.667964</td>\n",
       "      <td>135000</td>\n",
       "      <td>6312.999986</td>\n",
       "      <td>Alpha</td>\n",
       "      <td>50</td>\n",
       "      <td>6</td>\n",
       "      <td>24</td>\n",
       "      <td>3794028</td>\n",
       "      <td>34855.833363</td>\n",
       "      <td>Alpha</td>\n",
       "    </tr>\n",
       "    <tr>\n",
       "      <th>7317</th>\n",
       "      <td>6402</td>\n",
       "      <td>UPLOAD</td>\n",
       "      <td>218549275</td>\n",
       "      <td>0.011120</td>\n",
       "      <td>0.0</td>\n",
       "      <td>1.667964</td>\n",
       "      <td>135000</td>\n",
       "      <td>6345.416682</td>\n",
       "      <td>Alpha</td>\n",
       "      <td>66</td>\n",
       "      <td>6</td>\n",
       "      <td>13</td>\n",
       "      <td>7602267</td>\n",
       "      <td>59864.299968</td>\n",
       "      <td>Beta</td>\n",
       "    </tr>\n",
       "  </tbody>\n",
       "</table>\n",
       "</div>"
      ],
      "text/plain": [
       "      OPERATION_ID    TYPE    USER_ID  PRODUCTION  CONSUME  CONSUME_OTHERS  \\\n",
       "2304          1881  UPLOAD   19769622    0.022240      0.0        3.091293   \n",
       "1265          1053  UPLOAD    1574083    0.033359      0.0        3.002335   \n",
       "1466          1218  UPLOAD  189379530    0.011120      0.0        1.667964   \n",
       "7460          6536  UPLOAD   10581097    0.011120      0.0        1.667964   \n",
       "7317          6402  UPLOAD  218549275    0.011120      0.0        1.667964   \n",
       "\n",
       "      USER_VOLUME  USER_DENSITY USER_ROLE  FILE_ID  FILE_SIZE  TOPIC_ID  \\\n",
       "2304       332488   7033.649979     Alpha       83          7        12   \n",
       "1265       314550   3371.733329     Alpha       61          7        18   \n",
       "1466       157500   6108.800001     Alpha       76          7        13   \n",
       "7460       135000   6312.999986     Alpha       50          6        24   \n",
       "7317       135000   6345.416682     Alpha       66          6        13   \n",
       "\n",
       "      TOPIC_VOLUME  TOPIC_DENSITY TOPIC_ROLE  \n",
       "2304      10034220  105655.700111       Beta  \n",
       "1265        646877   17116.316643      Gamma  \n",
       "1466       7602267   59864.299968       Beta  \n",
       "7460       3794028   34855.833363      Alpha  \n",
       "7317       7602267   59864.299968       Beta  "
      ]
     },
     "execution_count": 263,
     "metadata": {},
     "output_type": "execute_result"
    }
   ],
   "source": [
    "producers = df.loc[df['USER_ROLE'].isna() != True]\n",
    "producers.sort_values(\"USER_ROLE\").head(5)"
   ]
  },
  {
   "cell_type": "markdown",
   "id": "removable-dealer",
   "metadata": {},
   "source": [
    "## Distribucion de los datos\n",
    "Se muestra la kernel density estimation (KDE) la estima la distribucion probabilistica de los datos"
   ]
  },
  {
   "cell_type": "code",
   "execution_count": 285,
   "id": "generous-staff",
   "metadata": {},
   "outputs": [
    {
     "data": {
      "image/png": "[encoded data removed]",
      "text/plain": [
       "<Figure size 360x360 with 1 Axes>"
      ]
     },
     "metadata": {
      "needs_background": "light"
     },
     "output_type": "display_data"
    },
    {
     "data": {
      "image/png": "[encoded data removed]",
      "text/plain": [
       "<Figure size 360x360 with 1 Axes>"
      ]
     },
     "metadata": {
      "needs_background": "light"
     },
     "output_type": "display_data"
    },
    {
     "data": {
      "image/png": "[encoded data removed]",
      "text/plain": [
       "<Figure size 360x360 with 1 Axes>"
      ]
     },
     "metadata": {
      "needs_background": "light"
     },
     "output_type": "display_data"
    },
    {
     "data": {
      "image/png": "[encoded data removed]",
      "text/plain": [
       "<Figure size 360x360 with 1 Axes>"
      ]
     },
     "metadata": {
      "needs_background": "light"
     },
     "output_type": "display_data"
    },
    {
     "data": {
      "image/png": "[encoded data removed]",
      "text/plain": [
       "<Figure size 360x360 with 1 Axes>"
      ]
     },
     "metadata": {
      "needs_background": "light"
     },
     "output_type": "display_data"
    },
    {
     "data": {
      "image/png": "[encoded data removed]",
      "text/plain": [
       "<Figure size 360x360 with 1 Axes>"
      ]
     },
     "metadata": {
      "needs_background": "light"
     },
     "output_type": "display_data"
    },
    {
     "data": {
      "image/png": "[encoded data removed]",
      "text/plain": [
       "<Figure size 360x360 with 1 Axes>"
      ]
     },
     "metadata": {
      "needs_background": "light"
     },
     "output_type": "display_data"
    },
    {
     "data": {
      "image/png": "[encoded data removed]",
      "text/plain": [
       "<Figure size 360x360 with 1 Axes>"
      ]
     },
     "metadata": {
      "needs_background": "light"
     },
     "output_type": "display_data"
    }
   ],
   "source": [
    "Xp         = producers.drop(useless_cols,axis=1) \n",
    "Xp_columns = Xp.columns\n",
    "for x in Xp_columns:\n",
    "    sns.displot(data=Xp,x=x,height=5,kde=True,color='black')"
   ]
  },
  {
   "cell_type": "markdown",
   "id": "alpine-greene",
   "metadata": {},
   "source": [
    "## Elimando Outliers\n",
    "Utilizando el rango intercuartil, los valores atípicos se definen como observaciones que caen por debajo de Q1 - 1.5 IQR o por encima de Q3 + 1.5 IQR."
   ]
  },
  {
   "cell_type": "code",
   "execution_count": 284,
   "id": "corresponding-reproduction",
   "metadata": {},
   "outputs": [],
   "source": [
    "for col in Xp_columns:\n",
    "    Q1 = Xp[col].quantile(0.25)\n",
    "    Q3 = Xp[col].quantile(0.75)\n",
    "    IQR = Q3 - Q1 \n",
    "    filter = (df[col] >= Q1 - 1.5 * IQR) & (df[col] <= Q3 + 1.5 *IQR)\n",
    "    Xp = Xp.loc[filter] \n",
    "#     sns.boxplot(x=Xp[col],width=.5,color=\"red\",fliersize=20)"
   ]
  },
  {
   "cell_type": "markdown",
   "id": "cathedral-consumption",
   "metadata": {},
   "source": [
    "# Consumidores\n",
    "Se filtran usuarios consumidores utilizando la columna **USER_ROLE**, la cual es nula en caso de ser consumidor."
   ]
  },
  {
   "cell_type": "code",
   "execution_count": 290,
   "id": "moderate-daily",
   "metadata": {},
   "outputs": [
    {
     "data": {
      "text/html": [
       "<div>\n",
       "<style scoped>\n",
       "    .dataframe tbody tr th:only-of-type {\n",
       "        vertical-align: middle;\n",
       "    }\n",
       "\n",
       "    .dataframe tbody tr th {\n",
       "        vertical-align: top;\n",
       "    }\n",
       "\n",
       "    .dataframe thead th {\n",
       "        text-align: right;\n",
       "    }\n",
       "</style>\n",
       "<table border=\"1\" class=\"dataframe\">\n",
       "  <thead>\n",
       "    <tr style=\"text-align: right;\">\n",
       "      <th></th>\n",
       "      <th>OPERATION_ID</th>\n",
       "      <th>TYPE</th>\n",
       "      <th>USER_ID</th>\n",
       "      <th>PRODUCTION</th>\n",
       "      <th>CONSUME</th>\n",
       "      <th>CONSUME_OTHERS</th>\n",
       "      <th>USER_VOLUME</th>\n",
       "      <th>USER_DENSITY</th>\n",
       "      <th>USER_ROLE</th>\n",
       "      <th>FILE_ID</th>\n",
       "      <th>FILE_SIZE</th>\n",
       "      <th>TOPIC_ID</th>\n",
       "      <th>TOPIC_VOLUME</th>\n",
       "      <th>TOPIC_DENSITY</th>\n",
       "      <th>TOPIC_ROLE</th>\n",
       "    </tr>\n",
       "  </thead>\n",
       "  <tbody>\n",
       "    <tr>\n",
       "      <th>1</th>\n",
       "      <td>2</td>\n",
       "      <td>DOWNLOAD</td>\n",
       "      <td>1405534545</td>\n",
       "      <td>0.0</td>\n",
       "      <td>0.022240</td>\n",
       "      <td>0.0</td>\n",
       "      <td>0</td>\n",
       "      <td>0.0</td>\n",
       "      <td>NaN</td>\n",
       "      <td>100</td>\n",
       "      <td>4</td>\n",
       "      <td>17</td>\n",
       "      <td>5167328</td>\n",
       "      <td>47838.233327</td>\n",
       "      <td>Alpha</td>\n",
       "    </tr>\n",
       "    <tr>\n",
       "      <th>2</th>\n",
       "      <td>2</td>\n",
       "      <td>DOWNLOAD</td>\n",
       "      <td>1405534545</td>\n",
       "      <td>0.0</td>\n",
       "      <td>0.022240</td>\n",
       "      <td>0.0</td>\n",
       "      <td>0</td>\n",
       "      <td>0.0</td>\n",
       "      <td>NaN</td>\n",
       "      <td>100</td>\n",
       "      <td>4</td>\n",
       "      <td>17</td>\n",
       "      <td>5167328</td>\n",
       "      <td>47838.233327</td>\n",
       "      <td>Alpha</td>\n",
       "    </tr>\n",
       "    <tr>\n",
       "      <th>3</th>\n",
       "      <td>3</td>\n",
       "      <td>DOWNLOAD</td>\n",
       "      <td>640881322</td>\n",
       "      <td>0.0</td>\n",
       "      <td>0.011120</td>\n",
       "      <td>0.0</td>\n",
       "      <td>0</td>\n",
       "      <td>0.0</td>\n",
       "      <td>NaN</td>\n",
       "      <td>100</td>\n",
       "      <td>4</td>\n",
       "      <td>17</td>\n",
       "      <td>5167328</td>\n",
       "      <td>47838.233327</td>\n",
       "      <td>Alpha</td>\n",
       "    </tr>\n",
       "    <tr>\n",
       "      <th>4</th>\n",
       "      <td>4</td>\n",
       "      <td>DOWNLOAD</td>\n",
       "      <td>1416963334</td>\n",
       "      <td>0.0</td>\n",
       "      <td>0.011120</td>\n",
       "      <td>0.0</td>\n",
       "      <td>0</td>\n",
       "      <td>0.0</td>\n",
       "      <td>NaN</td>\n",
       "      <td>100</td>\n",
       "      <td>4</td>\n",
       "      <td>17</td>\n",
       "      <td>5167328</td>\n",
       "      <td>47838.233327</td>\n",
       "      <td>Alpha</td>\n",
       "    </tr>\n",
       "    <tr>\n",
       "      <th>5</th>\n",
       "      <td>5</td>\n",
       "      <td>DOWNLOAD</td>\n",
       "      <td>2189419908</td>\n",
       "      <td>0.0</td>\n",
       "      <td>0.033359</td>\n",
       "      <td>0.0</td>\n",
       "      <td>0</td>\n",
       "      <td>0.0</td>\n",
       "      <td>NaN</td>\n",
       "      <td>100</td>\n",
       "      <td>4</td>\n",
       "      <td>17</td>\n",
       "      <td>5167328</td>\n",
       "      <td>47838.233327</td>\n",
       "      <td>Alpha</td>\n",
       "    </tr>\n",
       "  </tbody>\n",
       "</table>\n",
       "</div>"
      ],
      "text/plain": [
       "   OPERATION_ID      TYPE     USER_ID  PRODUCTION   CONSUME  CONSUME_OTHERS  \\\n",
       "1             2  DOWNLOAD  1405534545         0.0  0.022240             0.0   \n",
       "2             2  DOWNLOAD  1405534545         0.0  0.022240             0.0   \n",
       "3             3  DOWNLOAD   640881322         0.0  0.011120             0.0   \n",
       "4             4  DOWNLOAD  1416963334         0.0  0.011120             0.0   \n",
       "5             5  DOWNLOAD  2189419908         0.0  0.033359             0.0   \n",
       "\n",
       "   USER_VOLUME  USER_DENSITY USER_ROLE  FILE_ID  FILE_SIZE  TOPIC_ID  \\\n",
       "1            0           0.0       NaN      100          4        17   \n",
       "2            0           0.0       NaN      100          4        17   \n",
       "3            0           0.0       NaN      100          4        17   \n",
       "4            0           0.0       NaN      100          4        17   \n",
       "5            0           0.0       NaN      100          4        17   \n",
       "\n",
       "   TOPIC_VOLUME  TOPIC_DENSITY TOPIC_ROLE  \n",
       "1       5167328   47838.233327      Alpha  \n",
       "2       5167328   47838.233327      Alpha  \n",
       "3       5167328   47838.233327      Alpha  \n",
       "4       5167328   47838.233327      Alpha  \n",
       "5       5167328   47838.233327      Alpha  "
      ]
     },
     "execution_count": 290,
     "metadata": {},
     "output_type": "execute_result"
    }
   ],
   "source": [
    "consumers     = df.loc[df['USER_ROLE'].isna()]\n",
    "consumers.head(5)"
   ]
  },
  {
   "cell_type": "markdown",
   "id": "outer-quest",
   "metadata": {},
   "source": [
    "# Archivos\n",
    "Se extraen los archivos los cuales son cargados por los usuarios productores."
   ]
  },
  {
   "cell_type": "code",
   "execution_count": 289,
   "id": "binary-return",
   "metadata": {},
   "outputs": [
    {
     "data": {
      "text/html": [
       "<div>\n",
       "<style scoped>\n",
       "    .dataframe tbody tr th:only-of-type {\n",
       "        vertical-align: middle;\n",
       "    }\n",
       "\n",
       "    .dataframe tbody tr th {\n",
       "        vertical-align: top;\n",
       "    }\n",
       "\n",
       "    .dataframe thead th {\n",
       "        text-align: right;\n",
       "    }\n",
       "</style>\n",
       "<table border=\"1\" class=\"dataframe\">\n",
       "  <thead>\n",
       "    <tr style=\"text-align: right;\">\n",
       "      <th></th>\n",
       "      <th>FILE_ID</th>\n",
       "      <th>FILE_SIZE</th>\n",
       "      <th>TOPIC_ID</th>\n",
       "      <th>TOPIC_VOLUME</th>\n",
       "      <th>TOPIC_DENSITY</th>\n",
       "      <th>TOPIC_ROLE</th>\n",
       "    </tr>\n",
       "  </thead>\n",
       "  <tbody>\n",
       "    <tr>\n",
       "      <th>3267</th>\n",
       "      <td>1</td>\n",
       "      <td>5</td>\n",
       "      <td>13</td>\n",
       "      <td>7602267</td>\n",
       "      <td>59864.299968</td>\n",
       "      <td>Beta</td>\n",
       "    </tr>\n",
       "    <tr>\n",
       "      <th>4239</th>\n",
       "      <td>2</td>\n",
       "      <td>2</td>\n",
       "      <td>16</td>\n",
       "      <td>141050</td>\n",
       "      <td>11242.366624</td>\n",
       "      <td>Gamma</td>\n",
       "    </tr>\n",
       "    <tr>\n",
       "      <th>6742</th>\n",
       "      <td>3</td>\n",
       "      <td>4</td>\n",
       "      <td>13</td>\n",
       "      <td>7602267</td>\n",
       "      <td>59864.299968</td>\n",
       "      <td>Beta</td>\n",
       "    </tr>\n",
       "    <tr>\n",
       "      <th>4245</th>\n",
       "      <td>4</td>\n",
       "      <td>7</td>\n",
       "      <td>7</td>\n",
       "      <td>111926</td>\n",
       "      <td>22003.833399</td>\n",
       "      <td>Gamma</td>\n",
       "    </tr>\n",
       "    <tr>\n",
       "      <th>2890</th>\n",
       "      <td>5</td>\n",
       "      <td>6</td>\n",
       "      <td>2</td>\n",
       "      <td>7498850</td>\n",
       "      <td>46620.733299</td>\n",
       "      <td>Alpha</td>\n",
       "    </tr>\n",
       "  </tbody>\n",
       "</table>\n",
       "</div>"
      ],
      "text/plain": [
       "      FILE_ID  FILE_SIZE  TOPIC_ID  TOPIC_VOLUME  TOPIC_DENSITY TOPIC_ROLE\n",
       "3267        1          5        13       7602267   59864.299968       Beta\n",
       "4239        2          2        16        141050   11242.366624      Gamma\n",
       "6742        3          4        13       7602267   59864.299968       Beta\n",
       "4245        4          7         7        111926   22003.833399      Gamma\n",
       "2890        5          6         2       7498850   46620.733299      Alpha"
      ]
     },
     "execution_count": 289,
     "metadata": {},
     "output_type": "execute_result"
    }
   ],
   "source": [
    "files   = producers[producers['TYPE']=='UPLOAD']\n",
    "files   = files.sort_values('FILE_ID')\n",
    "files   = files[['FILE_ID','FILE_SIZE','TOPIC_ID','TOPIC_VOLUME','TOPIC_DENSITY','TOPIC_ROLE']]\n",
    "files.head(5)"
   ]
  },
  {
   "cell_type": "markdown",
   "id": "injured-hostel",
   "metadata": {},
   "source": [
    "# Temas\n",
    "Se extraen los temas los cuales son asignados a los archivos"
   ]
  },
  {
   "cell_type": "code",
   "execution_count": 291,
   "id": "technical-subscriber",
   "metadata": {},
   "outputs": [
    {
     "data": {
      "text/html": [
       "<div>\n",
       "<style scoped>\n",
       "    .dataframe tbody tr th:only-of-type {\n",
       "        vertical-align: middle;\n",
       "    }\n",
       "\n",
       "    .dataframe tbody tr th {\n",
       "        vertical-align: top;\n",
       "    }\n",
       "\n",
       "    .dataframe thead th {\n",
       "        text-align: right;\n",
       "    }\n",
       "</style>\n",
       "<table border=\"1\" class=\"dataframe\">\n",
       "  <thead>\n",
       "    <tr style=\"text-align: right;\">\n",
       "      <th></th>\n",
       "      <th>TOPIC_ID</th>\n",
       "      <th>TOPIC_VOLUME</th>\n",
       "      <th>TOPIC_DENSITY</th>\n",
       "    </tr>\n",
       "  </thead>\n",
       "  <tbody>\n",
       "    <tr>\n",
       "      <th>2494</th>\n",
       "      <td>1</td>\n",
       "      <td>3055415</td>\n",
       "      <td>58781.099956</td>\n",
       "    </tr>\n",
       "    <tr>\n",
       "      <th>2890</th>\n",
       "      <td>2</td>\n",
       "      <td>7498850</td>\n",
       "      <td>46620.733299</td>\n",
       "    </tr>\n",
       "    <tr>\n",
       "      <th>1938</th>\n",
       "      <td>3</td>\n",
       "      <td>1143521</td>\n",
       "      <td>11415.500000</td>\n",
       "    </tr>\n",
       "    <tr>\n",
       "      <th>2493</th>\n",
       "      <td>5</td>\n",
       "      <td>204680</td>\n",
       "      <td>12843.766668</td>\n",
       "    </tr>\n",
       "    <tr>\n",
       "      <th>4245</th>\n",
       "      <td>7</td>\n",
       "      <td>111926</td>\n",
       "      <td>22003.833399</td>\n",
       "    </tr>\n",
       "  </tbody>\n",
       "</table>\n",
       "</div>"
      ],
      "text/plain": [
       "      TOPIC_ID  TOPIC_VOLUME  TOPIC_DENSITY\n",
       "2494         1       3055415   58781.099956\n",
       "2890         2       7498850   46620.733299\n",
       "1938         3       1143521   11415.500000\n",
       "2493         5        204680   12843.766668\n",
       "4245         7        111926   22003.833399"
      ]
     },
     "execution_count": 291,
     "metadata": {},
     "output_type": "execute_result"
    }
   ],
   "source": [
    "topics  = files[['TOPIC_ID','TOPIC_VOLUME','TOPIC_DENSITY']] \n",
    "_topics = topics.drop_duplicates()\n",
    "_topics = _topics.sort_values('TOPIC_ID')\n",
    "_topics.head(5)"
   ]
  },
  {
   "cell_type": "markdown",
   "id": "modular-institute",
   "metadata": {},
   "source": [
    "# Spectral & Agglomerative Clustering"
   ]
  },
  {
   "cell_type": "markdown",
   "id": "concerned-general",
   "metadata": {},
   "source": [
    "## Creacion del grafo\n",
    "La generacion se lleva acabo utilizando **Neo4j**, una base de datos basada en grafos."
   ]
  },
  {
   "cell_type": "code",
   "execution_count": 145,
   "id": "active-wound",
   "metadata": {},
   "outputs": [],
   "source": [
    "from neo4j import GraphDatabase"
   ]
  },
  {
   "cell_type": "code",
   "execution_count": 150,
   "id": "consistent-former",
   "metadata": {},
   "outputs": [],
   "source": [
    "class Neo4J:\n",
    "    def __init__(self, uri, user, password):\n",
    "        self.driver = GraphDatabase.driver(uri, auth=(user, password))\n",
    "\n",
    "    def close(self):\n",
    "        self.driver.close()\n",
    "\n",
    "    def getSession(self):\n",
    "        return self.driver.session()\n",
    "    def print_greeting(self, message):\n",
    "        with self.getSession() as session:\n",
    "            greeting = session.write_transaction(self._create_and_return_greeting, message)\n",
    "            print(greeting)\n",
    "    def writeTransaction(self,fx,*args,**kwargs):\n",
    "        return self.getSession().write_transaction(fx,*args,**kwargs)\n",
    "\n",
    "\n",
    "def setToCluster(tx,data):\n",
    "    query = \"\"\"\n",
    "        MATCH (n) WHERE id(n) IN $node_ids\n",
    "            SET n: {}\n",
    "            RETURN n\n",
    "    \"\"\".format(data[1])\n",
    "    return tx.run(query,node_ids=data[0])\n",
    "def createConsumer(tx,data):\n",
    "    user_id = data[0]\n",
    "    consume = data[1]\n",
    "    file_id = data[2]\n",
    "    query =\"\"\"\n",
    "    MATCH (f:File {file_id:$file_id})\n",
    "    MERGE (c:Consumer {user_id: $user_id,consume:$consume })\n",
    "    MERGE (f)<-[d:DOWNLOAD]-(c)\n",
    "    ON CREATE SET d.count =1\n",
    "    ON MATCH SET d.count = d.count+1\n",
    "    RETURN f,d,c\n",
    "    \"\"\"\n",
    "    \n",
    "    return tx.run(query,user_id=user_id,consume=consume,file_id=file_id)\n",
    "\n",
    "def createProducer(tx,data):\n",
    "    user_id        = data[0]\n",
    "    production     = data[1] \n",
    "    consume        = data[2]\n",
    "    consume_others = data[3]\n",
    "    user_volume    = data[4]\n",
    "    user_density   = data[5]\n",
    "    user_role      = data[6]\n",
    "    file_id        = data[7]\n",
    "    file_size      = data[8]\n",
    "    topic_id       = data[9]\n",
    "    topic_volume   = data[10]\n",
    "    topic_density  = data[11]\n",
    "    topic_role     = data[12]\n",
    "    query = \"\"\"\n",
    "        MERGE (p:Producer {user_id:$user_id,production:$production,volume:$volume,density:$density,consume:$consume,consume_others:$consume_others,role:$role})\n",
    "        MERGE (f:File {file_id:$file_id,size:$file_size})\n",
    "        MERGE (t:Topic {topic_id: $topic_id,volume:$topic_volume,density: $topic_density,role:$topic_role})\n",
    "        MERGE (p)-[u:UPLOAD]->(f)-[ht:HAS_TOPIC]->(t)\n",
    "        RETURN p,u,f,ht,t\n",
    "    \"\"\"\n",
    "    \n",
    "    return tx.run(query,\n",
    "                        user_id=user_id,\n",
    "                        production=production,\n",
    "                        volume=user_volume,\n",
    "                        density=user_density,\n",
    "                        consume=consume,\n",
    "                        consume_others=consume_others,\n",
    "                        role=user_role,\n",
    "                        file_id=file_id,\n",
    "                        file_size=file_size,\n",
    "                        topic_id=topic_id,\n",
    "                        topic_volume=topic_volume,\n",
    "                        topic_density=topic_density,\n",
    "                        topic_role=topic_role\n",
    "                 )\n",
    "db = Neo4J(\"bolt://localhost:7687\", \"neo4j\", \"password\")\n",
    "# x = db.writeTransaction(fx=getPersons)\n",
    "# print(x,len(x))\n",
    "# db.close()"
   ]
  },
  {
   "cell_type": "markdown",
   "id": "varying-struggle",
   "metadata": {},
   "source": [
    "# Crear Productores\n",
    "Se crean los productores utilizando la API de **Neo4j**"
   ]
  },
  {
   "cell_type": "code",
   "execution_count": 519,
   "id": "certain-momentum",
   "metadata": {
    "collapsed": true
   },
   "outputs": [],
   "source": [
    "# producers_data = producers[['USER_ID','PRODUCTION','CONSUME','CONSUMER_OTHERS','USER_VOLUME','USER_DENSITY','USER_ROLE']]\n",
    "producers_data  = producers.copy()\n",
    "producer_data.sort_values(\"USER_ROLE\").head()\n",
    "producers_data  = producers_data.loc[producers_data['TYPE'] == 'UPLOAD']\n",
    "producers_data  = producers_data.drop([\"OPERATION_ID\",\"TYPE\"],axis=1)\n",
    "producers_data  = producers_data.to_numpy().tolist()\n",
    "# producers_data = producers_data.to_numpy()\n",
    "# producers_data.head(5)\n",
    "def runCreateProducers():\n",
    "    for data in producers_data:\n",
    "        db.writeTransaction(createProducer,data)\n",
    "        print(\"Producer[{}] created\".format(data[0]))\n",
    "        time.sleep(.2)\n",
    "    db.close()"
   ]
  },
  {
   "cell_type": "markdown",
   "id": "opposed-request",
   "metadata": {},
   "source": [
    "Se muestra el resultado que se obtiene, utilizando la herramienta de visualizacion de **Neo4j**. "
   ]
  },
  {
   "cell_type": "markdown",
   "id": "natural-tribe",
   "metadata": {},
   "source": [
    "![title](images/p0.png)"
   ]
  },
  {
   "cell_type": "markdown",
   "id": "varied-islam",
   "metadata": {},
   "source": [
    "En la misma operacion se lleva acabo la creacion de los archivos y la relacion de carga con el usuario productor"
   ]
  },
  {
   "cell_type": "markdown",
   "id": "placed-entrance",
   "metadata": {},
   "source": [
    "![title](images/puf.png)"
   ]
  },
  {
   "cell_type": "markdown",
   "id": "royal-penalty",
   "metadata": {},
   "source": [
    "A continuacion se muestra una imagen de los productores, la realacion de carga de archivos y los temas a los que pertenecen los archivos"
   ]
  },
  {
   "cell_type": "markdown",
   "id": "beginning-activation",
   "metadata": {},
   "source": [
    "![title](images/pufhtt.png)"
   ]
  },
  {
   "cell_type": "markdown",
   "id": "cognitive-spelling",
   "metadata": {},
   "source": [
    "# Crear consumidores\n",
    "Se crearon los consumidores"
   ]
  },
  {
   "cell_type": "code",
   "execution_count": 542,
   "id": "considerable-sullivan",
   "metadata": {
    "collapsed": true
   },
   "outputs": [],
   "source": [
    "consumers_data = consumers.copy()\n",
    "consumers_data = consumers_data.drop(['TYPE','FILE_SIZE','TOPIC_ID','TOPIC_VOLUME','TOPIC_DENSITY','OPERATION_ID','CONSUME_OTHERS','USER_VOLUME','USER_DENSITY','USER_ROLE','PRODUCTION','TOPIC_ROLE'], axis=1)\n",
    "# consumers_data[consumers_data['FILE_ID']==113]\n",
    "consumers_data = consumers_data.to_numpy().tolist()[100:]\n",
    "\n",
    "def runCreateConsumers(data):\n",
    "    for c in data:\n",
    "        db.writeTransaction(createConsumers,c)\n",
    "        print(\"Consumer[{}]\".format(c[0]))\n",
    "        time.sleep(.2)\n",
    "# runCreateConsumers(consumers_data)\n",
    "# consumers_data[100:]['FILE_ID'].unique()"
   ]
  },
  {
   "cell_type": "markdown",
   "id": "furnished-cardiff",
   "metadata": {},
   "source": [
    "El resultado de los consumidores, unicamente se muestran 2000 nodos, pero en realidad existen 8000 consumidores. "
   ]
  },
  {
   "cell_type": "markdown",
   "id": "touched-appliance",
   "metadata": {},
   "source": [
    "![title](images/c2.png)"
   ]
  },
  {
   "cell_type": "markdown",
   "id": "nominated-glance",
   "metadata": {},
   "source": [
    "# Creacion de matriz de adyacencia\n",
    "En teoría de grafos y ciencias de la computación, una matriz de adyacencia es una matriz cuadrada que se usa para representar un gráfico finito."
   ]
  },
  {
   "cell_type": "code",
   "execution_count": 3,
   "id": "improving-consolidation",
   "metadata": {},
   "outputs": [
    {
     "data": {
      "text/plain": [
       "array([[ 0.,  1.,  2., ..., 19., 12., 11.],\n",
       "       [ 1.,  0.,  1., ..., 18., 11., 10.],\n",
       "       [ 2.,  1.,  0., ..., 17., 10.,  9.],\n",
       "       ...,\n",
       "       [19., 18., 17., ...,  0., 23., 22.],\n",
       "       [12., 11., 10., ..., 23.,  0.,  1.],\n",
       "       [11., 10.,  9., ..., 22.,  1.,  0.]])"
      ]
     },
     "execution_count": 3,
     "metadata": {},
     "output_type": "execute_result"
    }
   ],
   "source": [
    "A = np.load('./data/am.npy')\n",
    "SPA = shortest_path(A,directed = False)\n",
    "SPA[SPA == np.inf] =0\n",
    "SPA"
   ]
  },
  {
   "cell_type": "markdown",
   "id": "catholic-immune",
   "metadata": {},
   "source": [
    "# Matriz de grados\n",
    "En teoría de grafos, la matriz de grados es una matriz diagonal que contiene información sobre el grado de cada vértice."
   ]
  },
  {
   "cell_type": "code",
   "execution_count": 5,
   "id": "corresponding-request",
   "metadata": {},
   "outputs": [
    {
     "data": {
      "text/plain": [
       "array([[ 1.,  0.,  0., ...,  0.,  0.,  0.],\n",
       "       [ 0.,  2.,  0., ...,  0.,  0.,  0.],\n",
       "       [ 0.,  0., 15., ...,  0.,  0.,  0.],\n",
       "       ...,\n",
       "       [ 0.,  0.,  0., ...,  2.,  0.,  0.],\n",
       "       [ 0.,  0.,  0., ...,  0.,  1.,  0.],\n",
       "       [ 0.,  0.,  0., ...,  0.,  0.,  2.]])"
      ]
     },
     "execution_count": 5,
     "metadata": {},
     "output_type": "execute_result"
    }
   ],
   "source": [
    "D = np.diag(A.sum(axis=1))\n",
    "D"
   ]
  },
  {
   "cell_type": "markdown",
   "id": "corrected-subject",
   "metadata": {},
   "source": [
    "# Laplacian\n",
    "La teoría de grafos, la matriz laplaciana, también llamada grafo laplaciano, matriz de admitancia, matriz de Kirchhoff o laplaciana discreta, es una representación matricial de un grafo. La matriz laplaciana se puede utilizar para encontrar muchas propiedades útiles de un gráfico."
   ]
  },
  {
   "cell_type": "code",
   "execution_count": 6,
   "id": "roman-cattle",
   "metadata": {},
   "outputs": [
    {
     "data": {
      "text/plain": [
       "array([[ 1., -1.,  0., ...,  0.,  0.,  0.],\n",
       "       [-1.,  2., -1., ...,  0.,  0.,  0.],\n",
       "       [ 0., -1., 15., ...,  0.,  0.,  0.],\n",
       "       ...,\n",
       "       [ 0.,  0.,  0., ...,  2.,  0.,  0.],\n",
       "       [ 0.,  0.,  0., ...,  0.,  1., -1.],\n",
       "       [ 0.,  0.,  0., ...,  0., -1.,  2.]])"
      ]
     },
     "execution_count": 6,
     "metadata": {},
     "output_type": "execute_result"
    }
   ],
   "source": [
    "L = D-A\n",
    "L"
   ]
  },
  {
   "cell_type": "markdown",
   "id": "comprehensive-adapter",
   "metadata": {},
   "source": [
    "# Eigenvalues y Eigenvector"
   ]
  },
  {
   "cell_type": "code",
   "execution_count": 21,
   "id": "combined-sweet",
   "metadata": {},
   "outputs": [
    {
     "data": {
      "text/plain": [
       "<matplotlib.collections.PathCollection at 0x7f1586f91d60>"
      ]
     },
     "execution_count": 21,
     "metadata": {},
     "output_type": "execute_result"
    },
    {
     "data": {
      "image/png": "[encoded data removed]",
      "text/plain": [
       "<Figure size 720x720 with 1 Axes>"
      ]
     },
     "metadata": {
      "needs_background": "light"
     },
     "output_type": "display_data"
    }
   ],
   "source": [
    "vals, vecs = np.linalg.eigh(L)\n",
    "# vals, vecs = np.linalg.eig(L)\n",
    "vecs = vecs[:,np.argsort(vals)]\n",
    "vals = vals[np.argsort(vals)]\n",
    "vecs.shape,vals.shape\n",
    "fg,ax =plt.subplots()\n",
    "ax.set_xlabel(\"Index\")\n",
    "ax.set_ylabel(\"Eigenvalue\")\n",
    "ax.scatter(range(vals.shape[0]),vals)\n",
    "# vecs\n"
   ]
  },
  {
   "cell_type": "code",
   "execution_count": 133,
   "id": "driven-certification",
   "metadata": {},
   "outputs": [],
   "source": [
    "\n",
    "def prepareScorePlot():\n",
    "    fig, ax    = plt.subplots(len(score_names),1)\n",
    "    def f(i,scores,labels):\n",
    "        ax[i].plot(n_clusters,scores[0],'r--',label = labels[0])\n",
    "        ax[i].plot(n_clusters,scores[1],'b--',label = labels[1])\n",
    "        ax[i].set_xlabel(\"Num. Clusters\")\n",
    "        ax[i].set_ylabel(\"Score\")\n",
    "        ax[i].set_xticks(n_clusters)\n",
    "        ax[i].legend(loc='best')\n",
    "    return f\n",
    "        \n",
    "def neo4jPlot(data):\n",
    "    for d in data:\n",
    "        db.writeTransaction(setToCluster,d)\n",
    "def plotScoresByScoreName(**kwargs):\n",
    "    labels = kwargs['labels']\n",
    "    data   = kwargs['data']\n",
    "    score_names = kwargs['score_names']\n",
    "    f = prepareScorePlot() \n",
    "    for i,key in enumerate(score_names):\n",
    "        f(i,data[key],labels[key])"
   ]
  },
  {
   "cell_type": "code",
   "execution_count": 295,
   "id": "ranging-terminology",
   "metadata": {
    "scrolled": true
   },
   "outputs": [
    {
     "data": {
      "image/png": "[encoded data removed]",
      "text/plain": [
       "<Figure size 1080x1080 with 4 Axes>"
      ]
     },
     "metadata": {
      "needs_background": "light"
     },
     "output_type": "display_data"
    }
   ],
   "source": [
    "# clusters = (2,5,10,15,20)\n",
    "eigen_solvers =('arpack', 'lobpcg', 'amg') #The eigenvalue decomposition strategy to use\n",
    "n_components  = 6 # Number of eigen vectors to use for the spectral embedding\n",
    "random_satate = (RandomState(None),10) # A pseudo random number generator used for the initialization of the lobpcg eigen vectors decomposition when eigen_solver='amg' and by the K-Means initialization\n",
    "n_init        = 10 # Number of time the k-means algorithm will be run with different centroid seeds. \n",
    "gamma         = 1.0 # Kernel coefficient for rbf, poly, sigmoid, laplacian and chi2 kernels\n",
    "affinity      = ('precomputed','nearest_neighbors','rbf','precomputed_nearest_neighbors')\n",
    "n_neighbors   = 10 # Number of neighbors to use when constructing the affinity matrix using the nearest neighbors method\n",
    "eigen_tol     = 0.0 # Stopping criterion for eigendecomposition of the Laplacian matrix when eigen_solver='arpack'\n",
    "assign_labels = ('kmeans','discretize') # The strategy to use to assign labels in the embedding space\n",
    "degree        = 3 # Degree of the polynomial kernel. Ignored by other kernels\n",
    "coef0         = 1 # Zero coefficient for polynomial and sigmoid kernels.\n",
    "n_jobs        = -1 # -1 means using all processors.\n",
    "verbose       = True\n",
    "def runSC(**kwargs):\n",
    "    #score_results =[[],[],[],[],[],[]]\n",
    "    score_results = {'sh':([],[]),'ch':([],[]),'db':([],[]),'dun':([],[])}\n",
    "    show_scores   = kwargs['show_scores']\n",
    "#     spec\n",
    "    visualize     = kwargs['visualize']\n",
    "    X             = kwargs['X']\n",
    "    sX            = standarize(X=X)\n",
    "    clusters      = kwargs['n_clusters']\n",
    "    for k in clusters:\n",
    "        agglomerativeClus = AgglomerativeClustering(\n",
    "            n_clusters=k,\n",
    "            affinity='euclidean',\n",
    "            connectivity=A).fit(sX)\n",
    "        spectralClus = SpectralClustering(n_clusters=k,\n",
    "                                n_components=k,\n",
    "                                assign_labels=assign_labels[1],\n",
    "                                random_state=random_satate[0],\n",
    "                                affinity=affinity[1],\n",
    "                                eigen_solver=eigen_solvers[0]\n",
    "                               ).fit(X)\n",
    "#         \n",
    "        spectralClusLabels      = spectralClus.labels_\n",
    "        agglomerativeClusLabels = agglomerativeClus.labels_\n",
    "        scUniqueLabels          = np.unique(spectralClusLabels)\n",
    "        acUniqueLabels          = np.unique(agglomerativeClusLabels)\n",
    "        if(visualize):\n",
    "            scColors =  list(map(lambda x: [np.where(spectralClusLabels==x)[0].tolist(),'C'+str(x),x],scUniqueLabels))\n",
    "            neo4jPlot(scColors)\n",
    "            input(\"Continue\")\n",
    "            agColors =  list(map(lambda x: [np.where(agglomerativeClusLabels==x)[0].tolist(),'C'+str(x),x],acUniqueLabels))\n",
    "            neo4jPlot(agColors)\n",
    "            input(\"Continue\")\n",
    "        \n",
    "        if(show_scores):\n",
    "            sillhoutte_scores = (shs(sX,spectralClusLabels), shs(sX,agglomerativeClusLabels))\n",
    "            calinki_scores =(chs(sX,spectralClusLabels), chs(sX,agglomerativeClusLabels))\n",
    "            davies_scores  = (dbs(sX,spectralClusLabels),dbs(sX,agglomerativeClusLabels))\n",
    "            dunIndex_scores   = (dunn(sX,spectralClusLabels), dunn(sX,agglomerativeClusLabels))\n",
    "            score_results['sh'][0].append(sillhoutte_scores[0])\n",
    "            score_results['sh'][1].append(sillhoutte_scores[1])\n",
    "            score_results['ch'][0].append(calinki_scores[0])\n",
    "            score_results['ch'][1].append(calinki_scores[1])\n",
    "            score_results['db'][0].append(davies_scores[0])\n",
    "            score_results['db'][1].append(davies_scores[1])\n",
    "            score_results['dun'][0].append(dunIndex_scores[0])\n",
    "            score_results['dun'][1].append(dunIndex_scores[1])\n",
    "    return score_results\n",
    "n_clusters = list(range(3,20))\n",
    "score_names =('sh','ch','db','dun')\n",
    "plot_labels = {\n",
    "    'sh':('Silhouette(Spectral Clustering)','Silhouette(Agglomerative)'),\n",
    "    'ch':('Calinski–Harabasz(Spectral Clustering','Calinski–Harabasz(Agglomerative)'),\n",
    "    'db': ('Davies–Bouldin(Spectral Clustering','Davies–Bouldin(Agglomerative)'),\n",
    "    'dun': (\"Dunn index(Spectral Clustering)\",\"Dunn index(Agglomerative)\")\n",
    "}\n",
    "scores     = runSC(X=SPA,\n",
    "                   n_clusters=n_clusters,\n",
    "                   show_scores=True,\n",
    "                   visualize=False)\n",
    "# print(scores)\n",
    "plotScoresByScoreName(data=scores,labels=plot_labels,score_names=score_names)\n",
    "# plt.savefig('./images/foo_1.jpg')\n",
    "plt.show()"
   ]
  }
 ],
 "metadata": {
  "kernelspec": {
   "display_name": "Python 3",
   "language": "python",
   "name": "python3"
  },
  "language_info": {
   "codemirror_mode": {
    "name": "ipython",
    "version": 3
   },
   "file_extension": ".py",
   "mimetype": "text/x-python",
   "name": "python",
   "nbconvert_exporter": "python",
   "pygments_lexer": "ipython3",
   "version": "3.8.5"
  }
 },
 "nbformat": 4,
 "nbformat_minor": 5
}
