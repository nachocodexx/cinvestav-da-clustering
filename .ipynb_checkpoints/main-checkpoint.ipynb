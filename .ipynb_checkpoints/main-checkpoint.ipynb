{
 "cells": [
  {
   "cell_type": "code",
   "execution_count": 67,
   "id": "copyrighted-darwin",
   "metadata": {},
   "outputs": [],
   "source": [
    "import numpy as np\n",
    "import pandas as pd\n",
    "import matplotlib.pyplot as plt\n",
    "from sklearn.preprocessing import normalize\n",
    "%config Completer.use_jedi = False"
   ]
  },
  {
   "cell_type": "markdown",
   "id": "local-elephant",
   "metadata": {},
   "source": [
    "### Cargar dataset"
   ]
  },
  {
   "cell_type": "code",
   "execution_count": 123,
   "id": "driven-alexander",
   "metadata": {},
   "outputs": [],
   "source": [
    "df = pd.read_csv(\"data/users.csv\")\n",
    "columns=df.columns"
   ]
  },
  {
   "cell_type": "markdown",
   "id": "union-greene",
   "metadata": {},
   "source": [
    "### Informacion de las columnas"
   ]
  },
  {
   "cell_type": "markdown",
   "id": "british-template",
   "metadata": {},
   "source": [
    "- ID: Identificador unico del usuario\n",
    "- AVG_RESPONSE: Tiempo promedio de descarga\n",
    "- PRODUCTION: Porcentaje de produccion de datos del usuario\n",
    "- CONSUME: Porcentaje de consumo del usuario\n",
    "- CONSUME_OTHERS: Porcentaje que le consumen al usuario.\n",
    "- LEADERSHIP(DEPRECATED): no info"
   ]
  },
  {
   "cell_type": "code",
   "execution_count": 127,
   "id": "planned-merchant",
   "metadata": {},
   "outputs": [
    {
     "data": {
      "text/html": [
       "<div>\n",
       "<style scoped>\n",
       "    .dataframe tbody tr th:only-of-type {\n",
       "        vertical-align: middle;\n",
       "    }\n",
       "\n",
       "    .dataframe tbody tr th {\n",
       "        vertical-align: top;\n",
       "    }\n",
       "\n",
       "    .dataframe thead th {\n",
       "        text-align: right;\n",
       "    }\n",
       "</style>\n",
       "<table border=\"1\" class=\"dataframe\">\n",
       "  <thead>\n",
       "    <tr style=\"text-align: right;\">\n",
       "      <th></th>\n",
       "      <th>Description</th>\n",
       "    </tr>\n",
       "  </thead>\n",
       "  <tbody>\n",
       "    <tr>\n",
       "      <th>ID</th>\n",
       "      <td>A</td>\n",
       "    </tr>\n",
       "    <tr>\n",
       "      <th>AVG_RESPONSE</th>\n",
       "      <td>B</td>\n",
       "    </tr>\n",
       "    <tr>\n",
       "      <th>PRODUCTION</th>\n",
       "      <td>C</td>\n",
       "    </tr>\n",
       "    <tr>\n",
       "      <th>CONSUME</th>\n",
       "      <td>D</td>\n",
       "    </tr>\n",
       "    <tr>\n",
       "      <th>CONSUME_OTHERS</th>\n",
       "      <td>E</td>\n",
       "    </tr>\n",
       "  </tbody>\n",
       "</table>\n",
       "</div>"
      ],
      "text/plain": [
       "               Description\n",
       "ID                       A\n",
       "AVG_RESPONSE             B\n",
       "PRODUCTION               C\n",
       "CONSUME                  D\n",
       "CONSUME_OTHERS           E"
      ]
     },
     "execution_count": 127,
     "metadata": {},
     "output_type": "execute_result"
    }
   ],
   "source": [
    "descriptions = pd.Series({\n",
    "    columns[0]:'A',\n",
    "    columns[1]:'B',\n",
    "    columns[2]:'C',\n",
    "    columns[3]:'D',\n",
    "    columns[4]:'E'\n",
    "},name=\"Description\")\n",
    "\n",
    "docs = pd.DataFrame({'Description':descriptions},index=columns  )\n",
    "docs.head()"
   ]
  },
  {
   "cell_type": "markdown",
   "id": "matched-business",
   "metadata": {},
   "source": [
    "### Mostrar dataset"
   ]
  },
  {
   "cell_type": "code",
   "execution_count": 119,
   "id": "quality-surface",
   "metadata": {},
   "outputs": [
    {
     "data": {
      "text/html": [
       "<div>\n",
       "<style scoped>\n",
       "    .dataframe tbody tr th:only-of-type {\n",
       "        vertical-align: middle;\n",
       "    }\n",
       "\n",
       "    .dataframe tbody tr th {\n",
       "        vertical-align: top;\n",
       "    }\n",
       "\n",
       "    .dataframe thead th {\n",
       "        text-align: right;\n",
       "    }\n",
       "</style>\n",
       "<table border=\"1\" class=\"dataframe\">\n",
       "  <thead>\n",
       "    <tr style=\"text-align: right;\">\n",
       "      <th></th>\n",
       "      <th>ID</th>\n",
       "      <th>AVG_RESPONSE</th>\n",
       "      <th>PRODUCTION</th>\n",
       "      <th>CONSUME</th>\n",
       "      <th>CONSUME_OTHERS</th>\n",
       "      <th>LEADERSHIP</th>\n",
       "    </tr>\n",
       "  </thead>\n",
       "  <tbody>\n",
       "    <tr>\n",
       "      <th>2357</th>\n",
       "      <td>145821237</td>\n",
       "      <td>0.0</td>\n",
       "      <td>0.066719</td>\n",
       "      <td>0.0</td>\n",
       "      <td>10.007784</td>\n",
       "      <td>0.083520</td>\n",
       "    </tr>\n",
       "    <tr>\n",
       "      <th>586</th>\n",
       "      <td>742756569</td>\n",
       "      <td>0.0</td>\n",
       "      <td>0.044479</td>\n",
       "      <td>0.0</td>\n",
       "      <td>2.802179</td>\n",
       "      <td>0.021567</td>\n",
       "    </tr>\n",
       "    <tr>\n",
       "      <th>2019</th>\n",
       "      <td>350781937</td>\n",
       "      <td>0.0</td>\n",
       "      <td>0.044479</td>\n",
       "      <td>0.0</td>\n",
       "      <td>0.989659</td>\n",
       "      <td>0.166113</td>\n",
       "    </tr>\n",
       "    <tr>\n",
       "      <th>1052</th>\n",
       "      <td>1574083</td>\n",
       "      <td>0.0</td>\n",
       "      <td>0.033359</td>\n",
       "      <td>0.0</td>\n",
       "      <td>3.002335</td>\n",
       "      <td>0.194711</td>\n",
       "    </tr>\n",
       "    <tr>\n",
       "      <th>1362</th>\n",
       "      <td>208560325</td>\n",
       "      <td>0.0</td>\n",
       "      <td>0.033359</td>\n",
       "      <td>0.0</td>\n",
       "      <td>5.003892</td>\n",
       "      <td>0.182700</td>\n",
       "    </tr>\n",
       "  </tbody>\n",
       "</table>\n",
       "</div>"
      ],
      "text/plain": [
       "             ID  AVG_RESPONSE  PRODUCTION  CONSUME  CONSUME_OTHERS  LEADERSHIP\n",
       "2357  145821237           0.0    0.066719      0.0       10.007784    0.083520\n",
       "586   742756569           0.0    0.044479      0.0        2.802179    0.021567\n",
       "2019  350781937           0.0    0.044479      0.0        0.989659    0.166113\n",
       "1052    1574083           0.0    0.033359      0.0        3.002335    0.194711\n",
       "1362  208560325           0.0    0.033359      0.0        5.003892    0.182700"
      ]
     },
     "execution_count": 119,
     "metadata": {},
     "output_type": "execute_result"
    }
   ],
   "source": [
    "df = df.sort_values(\"PRODUCTION\",ascending=False)\n",
    "#df.attrs['docs']=pd.DataFrame([1],index=('ID'), columns=list('description') )\n",
    "df.head(5)"
   ]
  },
  {
   "cell_type": "code",
   "execution_count": 70,
   "id": "mexican-language",
   "metadata": {},
   "outputs": [
    {
     "name": "stdout",
     "output_type": "stream",
     "text": [
      "<class 'pandas.core.frame.DataFrame'>\n",
      "RangeIndex: 7970 entries, 0 to 7969\n",
      "Data columns (total 6 columns):\n",
      " #   Column          Non-Null Count  Dtype  \n",
      "---  ------          --------------  -----  \n",
      " 0   ID              7970 non-null   int64  \n",
      " 1   AVG_RESPONSE    7970 non-null   float64\n",
      " 2   PRODUCTION      7970 non-null   float64\n",
      " 3   CONSUME         7970 non-null   float64\n",
      " 4   CONSUME_OTHERS  7970 non-null   float64\n",
      " 5   LEADERSHIP      7970 non-null   float64\n",
      "dtypes: float64(5), int64(1)\n",
      "memory usage: 373.7 KB\n"
     ]
    }
   ],
   "source": [
    "df.info()"
   ]
  },
  {
   "cell_type": "code",
   "execution_count": 84,
   "id": "realistic-conversation",
   "metadata": {},
   "outputs": [
    {
     "data": {
      "text/plain": [
       "[('PRODUCTION', 1.2676526187034358),\n",
       " ('CONSUME', 98.73234738129655),\n",
       " ('CONSUME_OTHERS', 98.73234738129656)]"
      ]
     },
     "execution_count": 84,
     "metadata": {},
     "output_type": "execute_result"
    }
   ],
   "source": [
    "columns=(\"PRODUCTION\",\"CONSUME\",\"CONSUME_OTHERS\")\n",
    "list(map(lambda x: (x,df[x].sum()),columns))"
   ]
  },
  {
   "cell_type": "markdown",
   "id": "focal-albany",
   "metadata": {},
   "source": [
    "### Resumen estadistico"
   ]
  },
  {
   "cell_type": "code",
   "execution_count": 64,
   "id": "olympic-employee",
   "metadata": {},
   "outputs": [
    {
     "data": {
      "text/html": [
       "<div>\n",
       "<style scoped>\n",
       "    .dataframe tbody tr th:only-of-type {\n",
       "        vertical-align: middle;\n",
       "    }\n",
       "\n",
       "    .dataframe tbody tr th {\n",
       "        vertical-align: top;\n",
       "    }\n",
       "\n",
       "    .dataframe thead th {\n",
       "        text-align: right;\n",
       "    }\n",
       "</style>\n",
       "<table border=\"1\" class=\"dataframe\">\n",
       "  <thead>\n",
       "    <tr style=\"text-align: right;\">\n",
       "      <th></th>\n",
       "      <th>count</th>\n",
       "      <th>mean</th>\n",
       "      <th>std</th>\n",
       "      <th>min</th>\n",
       "      <th>25%</th>\n",
       "      <th>50%</th>\n",
       "      <th>75%</th>\n",
       "      <th>max</th>\n",
       "    </tr>\n",
       "  </thead>\n",
       "  <tbody>\n",
       "    <tr>\n",
       "      <th>ID</th>\n",
       "      <td>7970.0</td>\n",
       "      <td>7.931038e+08</td>\n",
       "      <td>8.263302e+08</td>\n",
       "      <td>6161.000000</td>\n",
       "      <td>1.751875e+08</td>\n",
       "      <td>3.575951e+08</td>\n",
       "      <td>1.492711e+09</td>\n",
       "      <td>2.887160e+09</td>\n",
       "    </tr>\n",
       "    <tr>\n",
       "      <th>AVG_RESPONSE</th>\n",
       "      <td>7970.0</td>\n",
       "      <td>5.341480e+01</td>\n",
       "      <td>4.671829e+01</td>\n",
       "      <td>0.000000</td>\n",
       "      <td>1.218750e+01</td>\n",
       "      <td>4.215000e+01</td>\n",
       "      <td>8.219167e+01</td>\n",
       "      <td>2.094333e+02</td>\n",
       "    </tr>\n",
       "    <tr>\n",
       "      <th>PRODUCTION</th>\n",
       "      <td>7970.0</td>\n",
       "      <td>1.590530e-04</td>\n",
       "      <td>1.754409e-03</td>\n",
       "      <td>0.000000</td>\n",
       "      <td>0.000000e+00</td>\n",
       "      <td>0.000000e+00</td>\n",
       "      <td>0.000000e+00</td>\n",
       "      <td>6.671856e-02</td>\n",
       "    </tr>\n",
       "    <tr>\n",
       "      <th>CONSUME</th>\n",
       "      <td>7970.0</td>\n",
       "      <td>1.238800e-02</td>\n",
       "      <td>8.789796e-03</td>\n",
       "      <td>0.000000</td>\n",
       "      <td>1.111976e-02</td>\n",
       "      <td>1.111976e-02</td>\n",
       "      <td>1.111976e-02</td>\n",
       "      <td>4.781497e-01</td>\n",
       "    </tr>\n",
       "    <tr>\n",
       "      <th>CONSUME_OTHERS</th>\n",
       "      <td>7970.0</td>\n",
       "      <td>1.238800e-02</td>\n",
       "      <td>1.847447e-01</td>\n",
       "      <td>0.000000</td>\n",
       "      <td>0.000000e+00</td>\n",
       "      <td>0.000000e+00</td>\n",
       "      <td>0.000000e+00</td>\n",
       "      <td>1.000778e+01</td>\n",
       "    </tr>\n",
       "    <tr>\n",
       "      <th>LEADERSHIP</th>\n",
       "      <td>7970.0</td>\n",
       "      <td>9.310848e-01</td>\n",
       "      <td>1.584030e-01</td>\n",
       "      <td>0.010291</td>\n",
       "      <td>9.672751e-01</td>\n",
       "      <td>9.902595e-01</td>\n",
       "      <td>1.000000e+00</td>\n",
       "      <td>1.713860e+00</td>\n",
       "    </tr>\n",
       "  </tbody>\n",
       "</table>\n",
       "</div>"
      ],
      "text/plain": [
       "                 count          mean           std          min           25%  \\\n",
       "ID              7970.0  7.931038e+08  8.263302e+08  6161.000000  1.751875e+08   \n",
       "AVG_RESPONSE    7970.0  5.341480e+01  4.671829e+01     0.000000  1.218750e+01   \n",
       "PRODUCTION      7970.0  1.590530e-04  1.754409e-03     0.000000  0.000000e+00   \n",
       "CONSUME         7970.0  1.238800e-02  8.789796e-03     0.000000  1.111976e-02   \n",
       "CONSUME_OTHERS  7970.0  1.238800e-02  1.847447e-01     0.000000  0.000000e+00   \n",
       "LEADERSHIP      7970.0  9.310848e-01  1.584030e-01     0.010291  9.672751e-01   \n",
       "\n",
       "                         50%           75%           max  \n",
       "ID              3.575951e+08  1.492711e+09  2.887160e+09  \n",
       "AVG_RESPONSE    4.215000e+01  8.219167e+01  2.094333e+02  \n",
       "PRODUCTION      0.000000e+00  0.000000e+00  6.671856e-02  \n",
       "CONSUME         1.111976e-02  1.111976e-02  4.781497e-01  \n",
       "CONSUME_OTHERS  0.000000e+00  0.000000e+00  1.000778e+01  \n",
       "LEADERSHIP      9.902595e-01  1.000000e+00  1.713860e+00  "
      ]
     },
     "execution_count": 64,
     "metadata": {},
     "output_type": "execute_result"
    }
   ],
   "source": [
    "df.describe().T"
   ]
  },
  {
   "cell_type": "markdown",
   "id": "anticipated-practice",
   "metadata": {},
   "source": [
    "# Pandas"
   ]
  },
  {
   "cell_type": "code",
   "execution_count": 48,
   "id": "outstanding-pipeline",
   "metadata": {},
   "outputs": [
    {
     "data": {
      "text/html": [
       "<div>\n",
       "<style scoped>\n",
       "    .dataframe tbody tr th:only-of-type {\n",
       "        vertical-align: middle;\n",
       "    }\n",
       "\n",
       "    .dataframe tbody tr th {\n",
       "        vertical-align: top;\n",
       "    }\n",
       "\n",
       "    .dataframe thead th {\n",
       "        text-align: right;\n",
       "    }\n",
       "</style>\n",
       "<table border=\"1\" class=\"dataframe\">\n",
       "  <thead>\n",
       "    <tr style=\"text-align: right;\">\n",
       "      <th></th>\n",
       "      <th>Name</th>\n",
       "      <th>Age</th>\n",
       "    </tr>\n",
       "  </thead>\n",
       "  <tbody>\n",
       "    <tr>\n",
       "      <th>0</th>\n",
       "      <td>Nacho</td>\n",
       "      <td>12</td>\n",
       "    </tr>\n",
       "    <tr>\n",
       "      <th>1</th>\n",
       "      <td>Freddy</td>\n",
       "      <td>28</td>\n",
       "    </tr>\n",
       "  </tbody>\n",
       "</table>\n",
       "</div>"
      ],
      "text/plain": [
       "     Name  Age\n",
       "0   Nacho   12\n",
       "1  Freddy   28"
      ]
     },
     "execution_count": 48,
     "metadata": {},
     "output_type": "execute_result"
    }
   ],
   "source": [
    "names = pd.Series([\"Nacho\",\"Freddy\"],name=\"Name\")\n",
    "ages = pd.Series([12,28],name=\"Age\")\n",
    "\n",
    "df = pd.DataFrame({'Name':names,'Age':ages})\n",
    "df.head()"
   ]
  },
  {
   "cell_type": "code",
   "execution_count": 37,
   "id": "abandoned-retailer",
   "metadata": {},
   "outputs": [
    {
     "data": {
      "text/html": [
       "<div>\n",
       "<style scoped>\n",
       "    .dataframe tbody tr th:only-of-type {\n",
       "        vertical-align: middle;\n",
       "    }\n",
       "\n",
       "    .dataframe tbody tr th {\n",
       "        vertical-align: top;\n",
       "    }\n",
       "\n",
       "    .dataframe thead th {\n",
       "        text-align: right;\n",
       "    }\n",
       "</style>\n",
       "<table border=\"1\" class=\"dataframe\">\n",
       "  <thead>\n",
       "    <tr style=\"text-align: right;\">\n",
       "      <th></th>\n",
       "      <th>count</th>\n",
       "      <th>mean</th>\n",
       "      <th>std</th>\n",
       "      <th>min</th>\n",
       "      <th>25%</th>\n",
       "      <th>50%</th>\n",
       "      <th>75%</th>\n",
       "      <th>max</th>\n",
       "    </tr>\n",
       "  </thead>\n",
       "  <tbody>\n",
       "    <tr>\n",
       "      <th>age</th>\n",
       "      <td>2.0</td>\n",
       "      <td>20.0</td>\n",
       "      <td>11.313708</td>\n",
       "      <td>12.0</td>\n",
       "      <td>16.0</td>\n",
       "      <td>20.0</td>\n",
       "      <td>24.0</td>\n",
       "      <td>28.0</td>\n",
       "    </tr>\n",
       "  </tbody>\n",
       "</table>\n",
       "</div>"
      ],
      "text/plain": [
       "     count  mean        std   min   25%   50%   75%   max\n",
       "age    2.0  20.0  11.313708  12.0  16.0  20.0  24.0  28.0"
      ]
     },
     "execution_count": 37,
     "metadata": {},
     "output_type": "execute_result"
    }
   ],
   "source": [
    "df.describe().T"
   ]
  }
 ],
 "metadata": {
  "kernelspec": {
   "display_name": "Python 3",
   "language": "python",
   "name": "python3"
  },
  "language_info": {
   "codemirror_mode": {
    "name": "ipython",
    "version": 3
   },
   "file_extension": ".py",
   "mimetype": "text/x-python",
   "name": "python",
   "nbconvert_exporter": "python",
   "pygments_lexer": "ipython3",
   "version": "3.8.5"
  }
 },
 "nbformat": 4,
 "nbformat_minor": 5
}
